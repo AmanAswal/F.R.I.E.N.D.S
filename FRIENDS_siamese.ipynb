{
  "nbformat": 4,
  "nbformat_minor": 0,
  "metadata": {
    "colab": {
      "name": "FRIENDS_siamese",
      "provenance": [],
      "collapsed_sections": [],
      "toc_visible": true,
      "include_colab_link": true
    },
    "kernelspec": {
      "name": "python3",
      "display_name": "Python 3"
    },
    "accelerator": "GPU",
    "widgets": {
      "application/vnd.jupyter.widget-state+json": {
        "975a496e06204f09a46fc9a7ce36ee25": {
          "model_module": "@jupyter-widgets/controls",
          "model_name": "HBoxModel",
          "state": {
            "_view_name": "HBoxView",
            "_dom_classes": [],
            "_model_name": "HBoxModel",
            "_view_module": "@jupyter-widgets/controls",
            "_model_module_version": "1.5.0",
            "_view_count": null,
            "_view_module_version": "1.5.0",
            "box_style": "",
            "layout": "IPY_MODEL_12d0ab47d3c447d887f8524c01c9d58b",
            "_model_module": "@jupyter-widgets/controls",
            "children": [
              "IPY_MODEL_632e119f7355401793cfbba51c529867",
              "IPY_MODEL_063c2d6a7ef6455cb69399a64a0ac97c"
            ]
          }
        },
        "12d0ab47d3c447d887f8524c01c9d58b": {
          "model_module": "@jupyter-widgets/base",
          "model_name": "LayoutModel",
          "state": {
            "_view_name": "LayoutView",
            "grid_template_rows": null,
            "right": null,
            "justify_content": null,
            "_view_module": "@jupyter-widgets/base",
            "overflow": null,
            "_model_module_version": "1.2.0",
            "_view_count": null,
            "flex_flow": null,
            "width": null,
            "min_width": null,
            "border": null,
            "align_items": null,
            "bottom": null,
            "_model_module": "@jupyter-widgets/base",
            "top": null,
            "grid_column": null,
            "overflow_y": null,
            "overflow_x": null,
            "grid_auto_flow": null,
            "grid_area": null,
            "grid_template_columns": null,
            "flex": null,
            "_model_name": "LayoutModel",
            "justify_items": null,
            "grid_row": null,
            "max_height": null,
            "align_content": null,
            "visibility": null,
            "align_self": null,
            "height": null,
            "min_height": null,
            "padding": null,
            "grid_auto_rows": null,
            "grid_gap": null,
            "max_width": null,
            "order": null,
            "_view_module_version": "1.2.0",
            "grid_template_areas": null,
            "object_position": null,
            "object_fit": null,
            "grid_auto_columns": null,
            "margin": null,
            "display": null,
            "left": null
          }
        },
        "632e119f7355401793cfbba51c529867": {
          "model_module": "@jupyter-widgets/controls",
          "model_name": "IntProgressModel",
          "state": {
            "_view_name": "ProgressView",
            "style": "IPY_MODEL_b2f1361d108e49f59f3373b096ee55d5",
            "_dom_classes": [],
            "description": "",
            "_model_name": "IntProgressModel",
            "bar_style": "success",
            "max": 5,
            "_view_module": "@jupyter-widgets/controls",
            "_model_module_version": "1.5.0",
            "value": 5,
            "_view_count": null,
            "_view_module_version": "1.5.0",
            "orientation": "horizontal",
            "min": 0,
            "description_tooltip": null,
            "_model_module": "@jupyter-widgets/controls",
            "layout": "IPY_MODEL_00f9d86dc27b4e73b2879d2efd694c07"
          }
        },
        "063c2d6a7ef6455cb69399a64a0ac97c": {
          "model_module": "@jupyter-widgets/controls",
          "model_name": "HTMLModel",
          "state": {
            "_view_name": "HTMLView",
            "style": "IPY_MODEL_e79a2482fcf14db0920940a38b2da69c",
            "_dom_classes": [],
            "description": "",
            "_model_name": "HTMLModel",
            "placeholder": "​",
            "_view_module": "@jupyter-widgets/controls",
            "_model_module_version": "1.5.0",
            "value": "100% 5/5 [00:39&lt;00:00,  7.90s/it]",
            "_view_count": null,
            "_view_module_version": "1.5.0",
            "description_tooltip": null,
            "_model_module": "@jupyter-widgets/controls",
            "layout": "IPY_MODEL_26d72b318e4a4bdd94a03ec459f8aa2d"
          }
        },
        "b2f1361d108e49f59f3373b096ee55d5": {
          "model_module": "@jupyter-widgets/controls",
          "model_name": "ProgressStyleModel",
          "state": {
            "_view_name": "StyleView",
            "_model_name": "ProgressStyleModel",
            "description_width": "",
            "_view_module": "@jupyter-widgets/base",
            "_model_module_version": "1.5.0",
            "_view_count": null,
            "_view_module_version": "1.2.0",
            "bar_color": null,
            "_model_module": "@jupyter-widgets/controls"
          }
        },
        "00f9d86dc27b4e73b2879d2efd694c07": {
          "model_module": "@jupyter-widgets/base",
          "model_name": "LayoutModel",
          "state": {
            "_view_name": "LayoutView",
            "grid_template_rows": null,
            "right": null,
            "justify_content": null,
            "_view_module": "@jupyter-widgets/base",
            "overflow": null,
            "_model_module_version": "1.2.0",
            "_view_count": null,
            "flex_flow": null,
            "width": null,
            "min_width": null,
            "border": null,
            "align_items": null,
            "bottom": null,
            "_model_module": "@jupyter-widgets/base",
            "top": null,
            "grid_column": null,
            "overflow_y": null,
            "overflow_x": null,
            "grid_auto_flow": null,
            "grid_area": null,
            "grid_template_columns": null,
            "flex": null,
            "_model_name": "LayoutModel",
            "justify_items": null,
            "grid_row": null,
            "max_height": null,
            "align_content": null,
            "visibility": null,
            "align_self": null,
            "height": null,
            "min_height": null,
            "padding": null,
            "grid_auto_rows": null,
            "grid_gap": null,
            "max_width": null,
            "order": null,
            "_view_module_version": "1.2.0",
            "grid_template_areas": null,
            "object_position": null,
            "object_fit": null,
            "grid_auto_columns": null,
            "margin": null,
            "display": null,
            "left": null
          }
        },
        "e79a2482fcf14db0920940a38b2da69c": {
          "model_module": "@jupyter-widgets/controls",
          "model_name": "DescriptionStyleModel",
          "state": {
            "_view_name": "StyleView",
            "_model_name": "DescriptionStyleModel",
            "description_width": "",
            "_view_module": "@jupyter-widgets/base",
            "_model_module_version": "1.5.0",
            "_view_count": null,
            "_view_module_version": "1.2.0",
            "_model_module": "@jupyter-widgets/controls"
          }
        },
        "26d72b318e4a4bdd94a03ec459f8aa2d": {
          "model_module": "@jupyter-widgets/base",
          "model_name": "LayoutModel",
          "state": {
            "_view_name": "LayoutView",
            "grid_template_rows": null,
            "right": null,
            "justify_content": null,
            "_view_module": "@jupyter-widgets/base",
            "overflow": null,
            "_model_module_version": "1.2.0",
            "_view_count": null,
            "flex_flow": null,
            "width": null,
            "min_width": null,
            "border": null,
            "align_items": null,
            "bottom": null,
            "_model_module": "@jupyter-widgets/base",
            "top": null,
            "grid_column": null,
            "overflow_y": null,
            "overflow_x": null,
            "grid_auto_flow": null,
            "grid_area": null,
            "grid_template_columns": null,
            "flex": null,
            "_model_name": "LayoutModel",
            "justify_items": null,
            "grid_row": null,
            "max_height": null,
            "align_content": null,
            "visibility": null,
            "align_self": null,
            "height": null,
            "min_height": null,
            "padding": null,
            "grid_auto_rows": null,
            "grid_gap": null,
            "max_width": null,
            "order": null,
            "_view_module_version": "1.2.0",
            "grid_template_areas": null,
            "object_position": null,
            "object_fit": null,
            "grid_auto_columns": null,
            "margin": null,
            "display": null,
            "left": null
          }
        },
        "8f76a2cf0b9e498ab8090b1e60541780": {
          "model_module": "@jupyter-widgets/controls",
          "model_name": "HBoxModel",
          "state": {
            "_view_name": "HBoxView",
            "_dom_classes": [],
            "_model_name": "HBoxModel",
            "_view_module": "@jupyter-widgets/controls",
            "_model_module_version": "1.5.0",
            "_view_count": null,
            "_view_module_version": "1.5.0",
            "box_style": "",
            "layout": "IPY_MODEL_ba905f7f4ff144cbbc68ba33965ab674",
            "_model_module": "@jupyter-widgets/controls",
            "children": [
              "IPY_MODEL_2390bb375bb04b7ea8d6fd2de2456c7c",
              "IPY_MODEL_f7d94a8bcff64ed58aa118c5ea6c9d94"
            ]
          }
        },
        "ba905f7f4ff144cbbc68ba33965ab674": {
          "model_module": "@jupyter-widgets/base",
          "model_name": "LayoutModel",
          "state": {
            "_view_name": "LayoutView",
            "grid_template_rows": null,
            "right": null,
            "justify_content": null,
            "_view_module": "@jupyter-widgets/base",
            "overflow": null,
            "_model_module_version": "1.2.0",
            "_view_count": null,
            "flex_flow": null,
            "width": null,
            "min_width": null,
            "border": null,
            "align_items": null,
            "bottom": null,
            "_model_module": "@jupyter-widgets/base",
            "top": null,
            "grid_column": null,
            "overflow_y": null,
            "overflow_x": null,
            "grid_auto_flow": null,
            "grid_area": null,
            "grid_template_columns": null,
            "flex": null,
            "_model_name": "LayoutModel",
            "justify_items": null,
            "grid_row": null,
            "max_height": null,
            "align_content": null,
            "visibility": null,
            "align_self": null,
            "height": null,
            "min_height": null,
            "padding": null,
            "grid_auto_rows": null,
            "grid_gap": null,
            "max_width": null,
            "order": null,
            "_view_module_version": "1.2.0",
            "grid_template_areas": null,
            "object_position": null,
            "object_fit": null,
            "grid_auto_columns": null,
            "margin": null,
            "display": null,
            "left": null
          }
        },
        "2390bb375bb04b7ea8d6fd2de2456c7c": {
          "model_module": "@jupyter-widgets/controls",
          "model_name": "IntProgressModel",
          "state": {
            "_view_name": "ProgressView",
            "style": "IPY_MODEL_ab81d3e788994d29a7b92a15c2c9f308",
            "_dom_classes": [],
            "description": "Iteration > 0/5 : ",
            "_model_name": "IntProgressModel",
            "bar_style": "",
            "max": 782,
            "_view_module": "@jupyter-widgets/controls",
            "_model_module_version": "1.5.0",
            "value": 772,
            "_view_count": null,
            "_view_module_version": "1.5.0",
            "orientation": "horizontal",
            "min": 0,
            "description_tooltip": null,
            "_model_module": "@jupyter-widgets/controls",
            "layout": "IPY_MODEL_e6ab10b5674d45e393e119beb7fc882e"
          }
        },
        "f7d94a8bcff64ed58aa118c5ea6c9d94": {
          "model_module": "@jupyter-widgets/controls",
          "model_name": "HTMLModel",
          "state": {
            "_view_name": "HTMLView",
            "style": "IPY_MODEL_51473b1d1a4248b8a0da4f284eb28961",
            "_dom_classes": [],
            "description": "",
            "_model_name": "HTMLModel",
            "placeholder": "​",
            "_view_module": "@jupyter-widgets/controls",
            "_model_module_version": "1.5.0",
            "value": " 99% 772/782 [00:07&lt;00:00, 101.33it/s]",
            "_view_count": null,
            "_view_module_version": "1.5.0",
            "description_tooltip": null,
            "_model_module": "@jupyter-widgets/controls",
            "layout": "IPY_MODEL_bb754b833dc6482fa28c6eb3ef06aa4a"
          }
        },
        "ab81d3e788994d29a7b92a15c2c9f308": {
          "model_module": "@jupyter-widgets/controls",
          "model_name": "ProgressStyleModel",
          "state": {
            "_view_name": "StyleView",
            "_model_name": "ProgressStyleModel",
            "description_width": "initial",
            "_view_module": "@jupyter-widgets/base",
            "_model_module_version": "1.5.0",
            "_view_count": null,
            "_view_module_version": "1.2.0",
            "bar_color": null,
            "_model_module": "@jupyter-widgets/controls"
          }
        },
        "e6ab10b5674d45e393e119beb7fc882e": {
          "model_module": "@jupyter-widgets/base",
          "model_name": "LayoutModel",
          "state": {
            "_view_name": "LayoutView",
            "grid_template_rows": null,
            "right": null,
            "justify_content": null,
            "_view_module": "@jupyter-widgets/base",
            "overflow": null,
            "_model_module_version": "1.2.0",
            "_view_count": null,
            "flex_flow": null,
            "width": null,
            "min_width": null,
            "border": null,
            "align_items": null,
            "bottom": null,
            "_model_module": "@jupyter-widgets/base",
            "top": null,
            "grid_column": null,
            "overflow_y": null,
            "overflow_x": null,
            "grid_auto_flow": null,
            "grid_area": null,
            "grid_template_columns": null,
            "flex": null,
            "_model_name": "LayoutModel",
            "justify_items": null,
            "grid_row": null,
            "max_height": null,
            "align_content": null,
            "visibility": null,
            "align_self": null,
            "height": null,
            "min_height": null,
            "padding": null,
            "grid_auto_rows": null,
            "grid_gap": null,
            "max_width": null,
            "order": null,
            "_view_module_version": "1.2.0",
            "grid_template_areas": null,
            "object_position": null,
            "object_fit": null,
            "grid_auto_columns": null,
            "margin": null,
            "display": null,
            "left": null
          }
        },
        "51473b1d1a4248b8a0da4f284eb28961": {
          "model_module": "@jupyter-widgets/controls",
          "model_name": "DescriptionStyleModel",
          "state": {
            "_view_name": "StyleView",
            "_model_name": "DescriptionStyleModel",
            "description_width": "",
            "_view_module": "@jupyter-widgets/base",
            "_model_module_version": "1.5.0",
            "_view_count": null,
            "_view_module_version": "1.2.0",
            "_model_module": "@jupyter-widgets/controls"
          }
        },
        "bb754b833dc6482fa28c6eb3ef06aa4a": {
          "model_module": "@jupyter-widgets/base",
          "model_name": "LayoutModel",
          "state": {
            "_view_name": "LayoutView",
            "grid_template_rows": null,
            "right": null,
            "justify_content": null,
            "_view_module": "@jupyter-widgets/base",
            "overflow": null,
            "_model_module_version": "1.2.0",
            "_view_count": null,
            "flex_flow": null,
            "width": null,
            "min_width": null,
            "border": null,
            "align_items": null,
            "bottom": null,
            "_model_module": "@jupyter-widgets/base",
            "top": null,
            "grid_column": null,
            "overflow_y": null,
            "overflow_x": null,
            "grid_auto_flow": null,
            "grid_area": null,
            "grid_template_columns": null,
            "flex": null,
            "_model_name": "LayoutModel",
            "justify_items": null,
            "grid_row": null,
            "max_height": null,
            "align_content": null,
            "visibility": null,
            "align_self": null,
            "height": null,
            "min_height": null,
            "padding": null,
            "grid_auto_rows": null,
            "grid_gap": null,
            "max_width": null,
            "order": null,
            "_view_module_version": "1.2.0",
            "grid_template_areas": null,
            "object_position": null,
            "object_fit": null,
            "grid_auto_columns": null,
            "margin": null,
            "display": null,
            "left": null
          }
        },
        "996f7bac6b95452a888860036d0d2008": {
          "model_module": "@jupyter-widgets/controls",
          "model_name": "HBoxModel",
          "state": {
            "_view_name": "HBoxView",
            "_dom_classes": [],
            "_model_name": "HBoxModel",
            "_view_module": "@jupyter-widgets/controls",
            "_model_module_version": "1.5.0",
            "_view_count": null,
            "_view_module_version": "1.5.0",
            "box_style": "",
            "layout": "IPY_MODEL_836d2f0d75784ab6b4fb2ed8a08b948f",
            "_model_module": "@jupyter-widgets/controls",
            "children": [
              "IPY_MODEL_00db6eb4551842bc845d23d96ea31ad1",
              "IPY_MODEL_d74edbcb6e2c4f9d962f87e1bfcfea2f"
            ]
          }
        },
        "836d2f0d75784ab6b4fb2ed8a08b948f": {
          "model_module": "@jupyter-widgets/base",
          "model_name": "LayoutModel",
          "state": {
            "_view_name": "LayoutView",
            "grid_template_rows": null,
            "right": null,
            "justify_content": null,
            "_view_module": "@jupyter-widgets/base",
            "overflow": null,
            "_model_module_version": "1.2.0",
            "_view_count": null,
            "flex_flow": null,
            "width": null,
            "min_width": null,
            "border": null,
            "align_items": null,
            "bottom": null,
            "_model_module": "@jupyter-widgets/base",
            "top": null,
            "grid_column": null,
            "overflow_y": null,
            "overflow_x": null,
            "grid_auto_flow": null,
            "grid_area": null,
            "grid_template_columns": null,
            "flex": null,
            "_model_name": "LayoutModel",
            "justify_items": null,
            "grid_row": null,
            "max_height": null,
            "align_content": null,
            "visibility": null,
            "align_self": null,
            "height": null,
            "min_height": null,
            "padding": null,
            "grid_auto_rows": null,
            "grid_gap": null,
            "max_width": null,
            "order": null,
            "_view_module_version": "1.2.0",
            "grid_template_areas": null,
            "object_position": null,
            "object_fit": null,
            "grid_auto_columns": null,
            "margin": null,
            "display": null,
            "left": null
          }
        },
        "00db6eb4551842bc845d23d96ea31ad1": {
          "model_module": "@jupyter-widgets/controls",
          "model_name": "IntProgressModel",
          "state": {
            "_view_name": "ProgressView",
            "style": "IPY_MODEL_576cdc04545948fdbe81bc0d8acae914",
            "_dom_classes": [],
            "description": "Iteration > 1/5 : ",
            "_model_name": "IntProgressModel",
            "bar_style": "",
            "max": 782,
            "_view_module": "@jupyter-widgets/controls",
            "_model_module_version": "1.5.0",
            "value": 777,
            "_view_count": null,
            "_view_module_version": "1.5.0",
            "orientation": "horizontal",
            "min": 0,
            "description_tooltip": null,
            "_model_module": "@jupyter-widgets/controls",
            "layout": "IPY_MODEL_d244794b1b894a108c3b31740b7b5e94"
          }
        },
        "d74edbcb6e2c4f9d962f87e1bfcfea2f": {
          "model_module": "@jupyter-widgets/controls",
          "model_name": "HTMLModel",
          "state": {
            "_view_name": "HTMLView",
            "style": "IPY_MODEL_78214fae04c6477a8e2251c5750d6ba7",
            "_dom_classes": [],
            "description": "",
            "_model_name": "HTMLModel",
            "placeholder": "​",
            "_view_module": "@jupyter-widgets/controls",
            "_model_module_version": "1.5.0",
            "value": " 99% 777/782 [00:07&lt;00:00, 100.41it/s]",
            "_view_count": null,
            "_view_module_version": "1.5.0",
            "description_tooltip": null,
            "_model_module": "@jupyter-widgets/controls",
            "layout": "IPY_MODEL_f13ddc4c9eec44e58ac7dbde05443ad5"
          }
        },
        "576cdc04545948fdbe81bc0d8acae914": {
          "model_module": "@jupyter-widgets/controls",
          "model_name": "ProgressStyleModel",
          "state": {
            "_view_name": "StyleView",
            "_model_name": "ProgressStyleModel",
            "description_width": "initial",
            "_view_module": "@jupyter-widgets/base",
            "_model_module_version": "1.5.0",
            "_view_count": null,
            "_view_module_version": "1.2.0",
            "bar_color": null,
            "_model_module": "@jupyter-widgets/controls"
          }
        },
        "d244794b1b894a108c3b31740b7b5e94": {
          "model_module": "@jupyter-widgets/base",
          "model_name": "LayoutModel",
          "state": {
            "_view_name": "LayoutView",
            "grid_template_rows": null,
            "right": null,
            "justify_content": null,
            "_view_module": "@jupyter-widgets/base",
            "overflow": null,
            "_model_module_version": "1.2.0",
            "_view_count": null,
            "flex_flow": null,
            "width": null,
            "min_width": null,
            "border": null,
            "align_items": null,
            "bottom": null,
            "_model_module": "@jupyter-widgets/base",
            "top": null,
            "grid_column": null,
            "overflow_y": null,
            "overflow_x": null,
            "grid_auto_flow": null,
            "grid_area": null,
            "grid_template_columns": null,
            "flex": null,
            "_model_name": "LayoutModel",
            "justify_items": null,
            "grid_row": null,
            "max_height": null,
            "align_content": null,
            "visibility": null,
            "align_self": null,
            "height": null,
            "min_height": null,
            "padding": null,
            "grid_auto_rows": null,
            "grid_gap": null,
            "max_width": null,
            "order": null,
            "_view_module_version": "1.2.0",
            "grid_template_areas": null,
            "object_position": null,
            "object_fit": null,
            "grid_auto_columns": null,
            "margin": null,
            "display": null,
            "left": null
          }
        },
        "78214fae04c6477a8e2251c5750d6ba7": {
          "model_module": "@jupyter-widgets/controls",
          "model_name": "DescriptionStyleModel",
          "state": {
            "_view_name": "StyleView",
            "_model_name": "DescriptionStyleModel",
            "description_width": "",
            "_view_module": "@jupyter-widgets/base",
            "_model_module_version": "1.5.0",
            "_view_count": null,
            "_view_module_version": "1.2.0",
            "_model_module": "@jupyter-widgets/controls"
          }
        },
        "f13ddc4c9eec44e58ac7dbde05443ad5": {
          "model_module": "@jupyter-widgets/base",
          "model_name": "LayoutModel",
          "state": {
            "_view_name": "LayoutView",
            "grid_template_rows": null,
            "right": null,
            "justify_content": null,
            "_view_module": "@jupyter-widgets/base",
            "overflow": null,
            "_model_module_version": "1.2.0",
            "_view_count": null,
            "flex_flow": null,
            "width": null,
            "min_width": null,
            "border": null,
            "align_items": null,
            "bottom": null,
            "_model_module": "@jupyter-widgets/base",
            "top": null,
            "grid_column": null,
            "overflow_y": null,
            "overflow_x": null,
            "grid_auto_flow": null,
            "grid_area": null,
            "grid_template_columns": null,
            "flex": null,
            "_model_name": "LayoutModel",
            "justify_items": null,
            "grid_row": null,
            "max_height": null,
            "align_content": null,
            "visibility": null,
            "align_self": null,
            "height": null,
            "min_height": null,
            "padding": null,
            "grid_auto_rows": null,
            "grid_gap": null,
            "max_width": null,
            "order": null,
            "_view_module_version": "1.2.0",
            "grid_template_areas": null,
            "object_position": null,
            "object_fit": null,
            "grid_auto_columns": null,
            "margin": null,
            "display": null,
            "left": null
          }
        },
        "492a366e6d144f1db02d6489e4b5f023": {
          "model_module": "@jupyter-widgets/controls",
          "model_name": "HBoxModel",
          "state": {
            "_view_name": "HBoxView",
            "_dom_classes": [],
            "_model_name": "HBoxModel",
            "_view_module": "@jupyter-widgets/controls",
            "_model_module_version": "1.5.0",
            "_view_count": null,
            "_view_module_version": "1.5.0",
            "box_style": "",
            "layout": "IPY_MODEL_439a13593447430c884b977dfd2e15b4",
            "_model_module": "@jupyter-widgets/controls",
            "children": [
              "IPY_MODEL_4cf67a69105d4364af7affb91d62a0c4",
              "IPY_MODEL_18a7f252217043eaa0305edfb6ed3b54"
            ]
          }
        },
        "439a13593447430c884b977dfd2e15b4": {
          "model_module": "@jupyter-widgets/base",
          "model_name": "LayoutModel",
          "state": {
            "_view_name": "LayoutView",
            "grid_template_rows": null,
            "right": null,
            "justify_content": null,
            "_view_module": "@jupyter-widgets/base",
            "overflow": null,
            "_model_module_version": "1.2.0",
            "_view_count": null,
            "flex_flow": null,
            "width": null,
            "min_width": null,
            "border": null,
            "align_items": null,
            "bottom": null,
            "_model_module": "@jupyter-widgets/base",
            "top": null,
            "grid_column": null,
            "overflow_y": null,
            "overflow_x": null,
            "grid_auto_flow": null,
            "grid_area": null,
            "grid_template_columns": null,
            "flex": null,
            "_model_name": "LayoutModel",
            "justify_items": null,
            "grid_row": null,
            "max_height": null,
            "align_content": null,
            "visibility": null,
            "align_self": null,
            "height": null,
            "min_height": null,
            "padding": null,
            "grid_auto_rows": null,
            "grid_gap": null,
            "max_width": null,
            "order": null,
            "_view_module_version": "1.2.0",
            "grid_template_areas": null,
            "object_position": null,
            "object_fit": null,
            "grid_auto_columns": null,
            "margin": null,
            "display": null,
            "left": null
          }
        },
        "4cf67a69105d4364af7affb91d62a0c4": {
          "model_module": "@jupyter-widgets/controls",
          "model_name": "IntProgressModel",
          "state": {
            "_view_name": "ProgressView",
            "style": "IPY_MODEL_1035c51a45854a1583854bbb26ed398e",
            "_dom_classes": [],
            "description": "Iteration > 2/5 : ",
            "_model_name": "IntProgressModel",
            "bar_style": "",
            "max": 782,
            "_view_module": "@jupyter-widgets/controls",
            "_model_module_version": "1.5.0",
            "value": 772,
            "_view_count": null,
            "_view_module_version": "1.5.0",
            "orientation": "horizontal",
            "min": 0,
            "description_tooltip": null,
            "_model_module": "@jupyter-widgets/controls",
            "layout": "IPY_MODEL_0b3beb435fd145458260e8717f786911"
          }
        },
        "18a7f252217043eaa0305edfb6ed3b54": {
          "model_module": "@jupyter-widgets/controls",
          "model_name": "HTMLModel",
          "state": {
            "_view_name": "HTMLView",
            "style": "IPY_MODEL_0b1eb93d3bc544e891b348cca57eeb01",
            "_dom_classes": [],
            "description": "",
            "_model_name": "HTMLModel",
            "placeholder": "​",
            "_view_module": "@jupyter-widgets/controls",
            "_model_module_version": "1.5.0",
            "value": " 99% 772/782 [00:07&lt;00:00, 101.90it/s]",
            "_view_count": null,
            "_view_module_version": "1.5.0",
            "description_tooltip": null,
            "_model_module": "@jupyter-widgets/controls",
            "layout": "IPY_MODEL_8e184214e53d467f867f3870234465e7"
          }
        },
        "1035c51a45854a1583854bbb26ed398e": {
          "model_module": "@jupyter-widgets/controls",
          "model_name": "ProgressStyleModel",
          "state": {
            "_view_name": "StyleView",
            "_model_name": "ProgressStyleModel",
            "description_width": "initial",
            "_view_module": "@jupyter-widgets/base",
            "_model_module_version": "1.5.0",
            "_view_count": null,
            "_view_module_version": "1.2.0",
            "bar_color": null,
            "_model_module": "@jupyter-widgets/controls"
          }
        },
        "0b3beb435fd145458260e8717f786911": {
          "model_module": "@jupyter-widgets/base",
          "model_name": "LayoutModel",
          "state": {
            "_view_name": "LayoutView",
            "grid_template_rows": null,
            "right": null,
            "justify_content": null,
            "_view_module": "@jupyter-widgets/base",
            "overflow": null,
            "_model_module_version": "1.2.0",
            "_view_count": null,
            "flex_flow": null,
            "width": null,
            "min_width": null,
            "border": null,
            "align_items": null,
            "bottom": null,
            "_model_module": "@jupyter-widgets/base",
            "top": null,
            "grid_column": null,
            "overflow_y": null,
            "overflow_x": null,
            "grid_auto_flow": null,
            "grid_area": null,
            "grid_template_columns": null,
            "flex": null,
            "_model_name": "LayoutModel",
            "justify_items": null,
            "grid_row": null,
            "max_height": null,
            "align_content": null,
            "visibility": null,
            "align_self": null,
            "height": null,
            "min_height": null,
            "padding": null,
            "grid_auto_rows": null,
            "grid_gap": null,
            "max_width": null,
            "order": null,
            "_view_module_version": "1.2.0",
            "grid_template_areas": null,
            "object_position": null,
            "object_fit": null,
            "grid_auto_columns": null,
            "margin": null,
            "display": null,
            "left": null
          }
        },
        "0b1eb93d3bc544e891b348cca57eeb01": {
          "model_module": "@jupyter-widgets/controls",
          "model_name": "DescriptionStyleModel",
          "state": {
            "_view_name": "StyleView",
            "_model_name": "DescriptionStyleModel",
            "description_width": "",
            "_view_module": "@jupyter-widgets/base",
            "_model_module_version": "1.5.0",
            "_view_count": null,
            "_view_module_version": "1.2.0",
            "_model_module": "@jupyter-widgets/controls"
          }
        },
        "8e184214e53d467f867f3870234465e7": {
          "model_module": "@jupyter-widgets/base",
          "model_name": "LayoutModel",
          "state": {
            "_view_name": "LayoutView",
            "grid_template_rows": null,
            "right": null,
            "justify_content": null,
            "_view_module": "@jupyter-widgets/base",
            "overflow": null,
            "_model_module_version": "1.2.0",
            "_view_count": null,
            "flex_flow": null,
            "width": null,
            "min_width": null,
            "border": null,
            "align_items": null,
            "bottom": null,
            "_model_module": "@jupyter-widgets/base",
            "top": null,
            "grid_column": null,
            "overflow_y": null,
            "overflow_x": null,
            "grid_auto_flow": null,
            "grid_area": null,
            "grid_template_columns": null,
            "flex": null,
            "_model_name": "LayoutModel",
            "justify_items": null,
            "grid_row": null,
            "max_height": null,
            "align_content": null,
            "visibility": null,
            "align_self": null,
            "height": null,
            "min_height": null,
            "padding": null,
            "grid_auto_rows": null,
            "grid_gap": null,
            "max_width": null,
            "order": null,
            "_view_module_version": "1.2.0",
            "grid_template_areas": null,
            "object_position": null,
            "object_fit": null,
            "grid_auto_columns": null,
            "margin": null,
            "display": null,
            "left": null
          }
        },
        "230ec9fe5db94c70a5ebdefe479f22e5": {
          "model_module": "@jupyter-widgets/controls",
          "model_name": "HBoxModel",
          "state": {
            "_view_name": "HBoxView",
            "_dom_classes": [],
            "_model_name": "HBoxModel",
            "_view_module": "@jupyter-widgets/controls",
            "_model_module_version": "1.5.0",
            "_view_count": null,
            "_view_module_version": "1.5.0",
            "box_style": "",
            "layout": "IPY_MODEL_7ab2438509394161935bf3a983fd23df",
            "_model_module": "@jupyter-widgets/controls",
            "children": [
              "IPY_MODEL_5bfb5e0d574a4e13b20050ae5f7415bb",
              "IPY_MODEL_83f178776b2445a0b1bc3bf8ae35509f"
            ]
          }
        },
        "7ab2438509394161935bf3a983fd23df": {
          "model_module": "@jupyter-widgets/base",
          "model_name": "LayoutModel",
          "state": {
            "_view_name": "LayoutView",
            "grid_template_rows": null,
            "right": null,
            "justify_content": null,
            "_view_module": "@jupyter-widgets/base",
            "overflow": null,
            "_model_module_version": "1.2.0",
            "_view_count": null,
            "flex_flow": null,
            "width": null,
            "min_width": null,
            "border": null,
            "align_items": null,
            "bottom": null,
            "_model_module": "@jupyter-widgets/base",
            "top": null,
            "grid_column": null,
            "overflow_y": null,
            "overflow_x": null,
            "grid_auto_flow": null,
            "grid_area": null,
            "grid_template_columns": null,
            "flex": null,
            "_model_name": "LayoutModel",
            "justify_items": null,
            "grid_row": null,
            "max_height": null,
            "align_content": null,
            "visibility": null,
            "align_self": null,
            "height": null,
            "min_height": null,
            "padding": null,
            "grid_auto_rows": null,
            "grid_gap": null,
            "max_width": null,
            "order": null,
            "_view_module_version": "1.2.0",
            "grid_template_areas": null,
            "object_position": null,
            "object_fit": null,
            "grid_auto_columns": null,
            "margin": null,
            "display": null,
            "left": null
          }
        },
        "5bfb5e0d574a4e13b20050ae5f7415bb": {
          "model_module": "@jupyter-widgets/controls",
          "model_name": "IntProgressModel",
          "state": {
            "_view_name": "ProgressView",
            "style": "IPY_MODEL_828b86cff2b34aed829454f50c2a538b",
            "_dom_classes": [],
            "description": "Iteration > 3/5 : ",
            "_model_name": "IntProgressModel",
            "bar_style": "",
            "max": 782,
            "_view_module": "@jupyter-widgets/controls",
            "_model_module_version": "1.5.0",
            "value": 777,
            "_view_count": null,
            "_view_module_version": "1.5.0",
            "orientation": "horizontal",
            "min": 0,
            "description_tooltip": null,
            "_model_module": "@jupyter-widgets/controls",
            "layout": "IPY_MODEL_a974bc83765246c1a282c289f4fe1dc5"
          }
        },
        "83f178776b2445a0b1bc3bf8ae35509f": {
          "model_module": "@jupyter-widgets/controls",
          "model_name": "HTMLModel",
          "state": {
            "_view_name": "HTMLView",
            "style": "IPY_MODEL_00c11782d5f54725ac48ade0c2872d7a",
            "_dom_classes": [],
            "description": "",
            "_model_name": "HTMLModel",
            "placeholder": "​",
            "_view_module": "@jupyter-widgets/controls",
            "_model_module_version": "1.5.0",
            "value": " 99% 777/782 [00:07&lt;00:00, 100.94it/s]",
            "_view_count": null,
            "_view_module_version": "1.5.0",
            "description_tooltip": null,
            "_model_module": "@jupyter-widgets/controls",
            "layout": "IPY_MODEL_312afd61499c437ca776d903faaa3b77"
          }
        },
        "828b86cff2b34aed829454f50c2a538b": {
          "model_module": "@jupyter-widgets/controls",
          "model_name": "ProgressStyleModel",
          "state": {
            "_view_name": "StyleView",
            "_model_name": "ProgressStyleModel",
            "description_width": "initial",
            "_view_module": "@jupyter-widgets/base",
            "_model_module_version": "1.5.0",
            "_view_count": null,
            "_view_module_version": "1.2.0",
            "bar_color": null,
            "_model_module": "@jupyter-widgets/controls"
          }
        },
        "a974bc83765246c1a282c289f4fe1dc5": {
          "model_module": "@jupyter-widgets/base",
          "model_name": "LayoutModel",
          "state": {
            "_view_name": "LayoutView",
            "grid_template_rows": null,
            "right": null,
            "justify_content": null,
            "_view_module": "@jupyter-widgets/base",
            "overflow": null,
            "_model_module_version": "1.2.0",
            "_view_count": null,
            "flex_flow": null,
            "width": null,
            "min_width": null,
            "border": null,
            "align_items": null,
            "bottom": null,
            "_model_module": "@jupyter-widgets/base",
            "top": null,
            "grid_column": null,
            "overflow_y": null,
            "overflow_x": null,
            "grid_auto_flow": null,
            "grid_area": null,
            "grid_template_columns": null,
            "flex": null,
            "_model_name": "LayoutModel",
            "justify_items": null,
            "grid_row": null,
            "max_height": null,
            "align_content": null,
            "visibility": null,
            "align_self": null,
            "height": null,
            "min_height": null,
            "padding": null,
            "grid_auto_rows": null,
            "grid_gap": null,
            "max_width": null,
            "order": null,
            "_view_module_version": "1.2.0",
            "grid_template_areas": null,
            "object_position": null,
            "object_fit": null,
            "grid_auto_columns": null,
            "margin": null,
            "display": null,
            "left": null
          }
        },
        "00c11782d5f54725ac48ade0c2872d7a": {
          "model_module": "@jupyter-widgets/controls",
          "model_name": "DescriptionStyleModel",
          "state": {
            "_view_name": "StyleView",
            "_model_name": "DescriptionStyleModel",
            "description_width": "",
            "_view_module": "@jupyter-widgets/base",
            "_model_module_version": "1.5.0",
            "_view_count": null,
            "_view_module_version": "1.2.0",
            "_model_module": "@jupyter-widgets/controls"
          }
        },
        "312afd61499c437ca776d903faaa3b77": {
          "model_module": "@jupyter-widgets/base",
          "model_name": "LayoutModel",
          "state": {
            "_view_name": "LayoutView",
            "grid_template_rows": null,
            "right": null,
            "justify_content": null,
            "_view_module": "@jupyter-widgets/base",
            "overflow": null,
            "_model_module_version": "1.2.0",
            "_view_count": null,
            "flex_flow": null,
            "width": null,
            "min_width": null,
            "border": null,
            "align_items": null,
            "bottom": null,
            "_model_module": "@jupyter-widgets/base",
            "top": null,
            "grid_column": null,
            "overflow_y": null,
            "overflow_x": null,
            "grid_auto_flow": null,
            "grid_area": null,
            "grid_template_columns": null,
            "flex": null,
            "_model_name": "LayoutModel",
            "justify_items": null,
            "grid_row": null,
            "max_height": null,
            "align_content": null,
            "visibility": null,
            "align_self": null,
            "height": null,
            "min_height": null,
            "padding": null,
            "grid_auto_rows": null,
            "grid_gap": null,
            "max_width": null,
            "order": null,
            "_view_module_version": "1.2.0",
            "grid_template_areas": null,
            "object_position": null,
            "object_fit": null,
            "grid_auto_columns": null,
            "margin": null,
            "display": null,
            "left": null
          }
        },
        "af6ed32377684884a32de3b902134647": {
          "model_module": "@jupyter-widgets/controls",
          "model_name": "HBoxModel",
          "state": {
            "_view_name": "HBoxView",
            "_dom_classes": [],
            "_model_name": "HBoxModel",
            "_view_module": "@jupyter-widgets/controls",
            "_model_module_version": "1.5.0",
            "_view_count": null,
            "_view_module_version": "1.5.0",
            "box_style": "",
            "layout": "IPY_MODEL_69b3149c421047118b25881f711e4bcb",
            "_model_module": "@jupyter-widgets/controls",
            "children": [
              "IPY_MODEL_1dbecd9f72054508b637c6e3196950e7",
              "IPY_MODEL_57cfd64ae5904e05b6f37606033c7904"
            ]
          }
        },
        "69b3149c421047118b25881f711e4bcb": {
          "model_module": "@jupyter-widgets/base",
          "model_name": "LayoutModel",
          "state": {
            "_view_name": "LayoutView",
            "grid_template_rows": null,
            "right": null,
            "justify_content": null,
            "_view_module": "@jupyter-widgets/base",
            "overflow": null,
            "_model_module_version": "1.2.0",
            "_view_count": null,
            "flex_flow": null,
            "width": null,
            "min_width": null,
            "border": null,
            "align_items": null,
            "bottom": null,
            "_model_module": "@jupyter-widgets/base",
            "top": null,
            "grid_column": null,
            "overflow_y": null,
            "overflow_x": null,
            "grid_auto_flow": null,
            "grid_area": null,
            "grid_template_columns": null,
            "flex": null,
            "_model_name": "LayoutModel",
            "justify_items": null,
            "grid_row": null,
            "max_height": null,
            "align_content": null,
            "visibility": null,
            "align_self": null,
            "height": null,
            "min_height": null,
            "padding": null,
            "grid_auto_rows": null,
            "grid_gap": null,
            "max_width": null,
            "order": null,
            "_view_module_version": "1.2.0",
            "grid_template_areas": null,
            "object_position": null,
            "object_fit": null,
            "grid_auto_columns": null,
            "margin": null,
            "display": null,
            "left": null
          }
        },
        "1dbecd9f72054508b637c6e3196950e7": {
          "model_module": "@jupyter-widgets/controls",
          "model_name": "IntProgressModel",
          "state": {
            "_view_name": "ProgressView",
            "style": "IPY_MODEL_9f5d1cf44a254366affb0e33bf327ac9",
            "_dom_classes": [],
            "description": "Iteration > 4/5 : ",
            "_model_name": "IntProgressModel",
            "bar_style": "",
            "max": 782,
            "_view_module": "@jupyter-widgets/controls",
            "_model_module_version": "1.5.0",
            "value": 777,
            "_view_count": null,
            "_view_module_version": "1.5.0",
            "orientation": "horizontal",
            "min": 0,
            "description_tooltip": null,
            "_model_module": "@jupyter-widgets/controls",
            "layout": "IPY_MODEL_a1ca4196782146f293e3f97236d502a1"
          }
        },
        "57cfd64ae5904e05b6f37606033c7904": {
          "model_module": "@jupyter-widgets/controls",
          "model_name": "HTMLModel",
          "state": {
            "_view_name": "HTMLView",
            "style": "IPY_MODEL_8ee7a01b162b45ad8ec920e9762a6c60",
            "_dom_classes": [],
            "description": "",
            "_model_name": "HTMLModel",
            "placeholder": "​",
            "_view_module": "@jupyter-widgets/controls",
            "_model_module_version": "1.5.0",
            "value": " 99% 777/782 [00:07&lt;00:00, 98.69it/s]",
            "_view_count": null,
            "_view_module_version": "1.5.0",
            "description_tooltip": null,
            "_model_module": "@jupyter-widgets/controls",
            "layout": "IPY_MODEL_7dfc2c66ab604100a9d09a16aab18ad1"
          }
        },
        "9f5d1cf44a254366affb0e33bf327ac9": {
          "model_module": "@jupyter-widgets/controls",
          "model_name": "ProgressStyleModel",
          "state": {
            "_view_name": "StyleView",
            "_model_name": "ProgressStyleModel",
            "description_width": "initial",
            "_view_module": "@jupyter-widgets/base",
            "_model_module_version": "1.5.0",
            "_view_count": null,
            "_view_module_version": "1.2.0",
            "bar_color": null,
            "_model_module": "@jupyter-widgets/controls"
          }
        },
        "a1ca4196782146f293e3f97236d502a1": {
          "model_module": "@jupyter-widgets/base",
          "model_name": "LayoutModel",
          "state": {
            "_view_name": "LayoutView",
            "grid_template_rows": null,
            "right": null,
            "justify_content": null,
            "_view_module": "@jupyter-widgets/base",
            "overflow": null,
            "_model_module_version": "1.2.0",
            "_view_count": null,
            "flex_flow": null,
            "width": null,
            "min_width": null,
            "border": null,
            "align_items": null,
            "bottom": null,
            "_model_module": "@jupyter-widgets/base",
            "top": null,
            "grid_column": null,
            "overflow_y": null,
            "overflow_x": null,
            "grid_auto_flow": null,
            "grid_area": null,
            "grid_template_columns": null,
            "flex": null,
            "_model_name": "LayoutModel",
            "justify_items": null,
            "grid_row": null,
            "max_height": null,
            "align_content": null,
            "visibility": null,
            "align_self": null,
            "height": null,
            "min_height": null,
            "padding": null,
            "grid_auto_rows": null,
            "grid_gap": null,
            "max_width": null,
            "order": null,
            "_view_module_version": "1.2.0",
            "grid_template_areas": null,
            "object_position": null,
            "object_fit": null,
            "grid_auto_columns": null,
            "margin": null,
            "display": null,
            "left": null
          }
        },
        "8ee7a01b162b45ad8ec920e9762a6c60": {
          "model_module": "@jupyter-widgets/controls",
          "model_name": "DescriptionStyleModel",
          "state": {
            "_view_name": "StyleView",
            "_model_name": "DescriptionStyleModel",
            "description_width": "",
            "_view_module": "@jupyter-widgets/base",
            "_model_module_version": "1.5.0",
            "_view_count": null,
            "_view_module_version": "1.2.0",
            "_model_module": "@jupyter-widgets/controls"
          }
        },
        "7dfc2c66ab604100a9d09a16aab18ad1": {
          "model_module": "@jupyter-widgets/base",
          "model_name": "LayoutModel",
          "state": {
            "_view_name": "LayoutView",
            "grid_template_rows": null,
            "right": null,
            "justify_content": null,
            "_view_module": "@jupyter-widgets/base",
            "overflow": null,
            "_model_module_version": "1.2.0",
            "_view_count": null,
            "flex_flow": null,
            "width": null,
            "min_width": null,
            "border": null,
            "align_items": null,
            "bottom": null,
            "_model_module": "@jupyter-widgets/base",
            "top": null,
            "grid_column": null,
            "overflow_y": null,
            "overflow_x": null,
            "grid_auto_flow": null,
            "grid_area": null,
            "grid_template_columns": null,
            "flex": null,
            "_model_name": "LayoutModel",
            "justify_items": null,
            "grid_row": null,
            "max_height": null,
            "align_content": null,
            "visibility": null,
            "align_self": null,
            "height": null,
            "min_height": null,
            "padding": null,
            "grid_auto_rows": null,
            "grid_gap": null,
            "max_width": null,
            "order": null,
            "_view_module_version": "1.2.0",
            "grid_template_areas": null,
            "object_position": null,
            "object_fit": null,
            "grid_auto_columns": null,
            "margin": null,
            "display": null,
            "left": null
          }
        },
        "ecec697a090d47d5b9963d24941fbe31": {
          "model_module": "@jupyter-widgets/controls",
          "model_name": "HBoxModel",
          "state": {
            "_view_name": "HBoxView",
            "_dom_classes": [],
            "_model_name": "HBoxModel",
            "_view_module": "@jupyter-widgets/controls",
            "_model_module_version": "1.5.0",
            "_view_count": null,
            "_view_module_version": "1.5.0",
            "box_style": "",
            "layout": "IPY_MODEL_0b8029f7e9054abdbca47eb9f92fdb98",
            "_model_module": "@jupyter-widgets/controls",
            "children": [
              "IPY_MODEL_daed3a091440430c89920d871ee93809",
              "IPY_MODEL_0f86d891206e4ca6be4e9ef3211a4d98"
            ]
          }
        },
        "0b8029f7e9054abdbca47eb9f92fdb98": {
          "model_module": "@jupyter-widgets/base",
          "model_name": "LayoutModel",
          "state": {
            "_view_name": "LayoutView",
            "grid_template_rows": null,
            "right": null,
            "justify_content": null,
            "_view_module": "@jupyter-widgets/base",
            "overflow": null,
            "_model_module_version": "1.2.0",
            "_view_count": null,
            "flex_flow": null,
            "width": null,
            "min_width": null,
            "border": null,
            "align_items": null,
            "bottom": null,
            "_model_module": "@jupyter-widgets/base",
            "top": null,
            "grid_column": null,
            "overflow_y": null,
            "overflow_x": null,
            "grid_auto_flow": null,
            "grid_area": null,
            "grid_template_columns": null,
            "flex": null,
            "_model_name": "LayoutModel",
            "justify_items": null,
            "grid_row": null,
            "max_height": null,
            "align_content": null,
            "visibility": null,
            "align_self": null,
            "height": null,
            "min_height": null,
            "padding": null,
            "grid_auto_rows": null,
            "grid_gap": null,
            "max_width": null,
            "order": null,
            "_view_module_version": "1.2.0",
            "grid_template_areas": null,
            "object_position": null,
            "object_fit": null,
            "grid_auto_columns": null,
            "margin": null,
            "display": null,
            "left": null
          }
        },
        "daed3a091440430c89920d871ee93809": {
          "model_module": "@jupyter-widgets/controls",
          "model_name": "IntProgressModel",
          "state": {
            "_view_name": "ProgressView",
            "style": "IPY_MODEL_dc50f03ec43540b2be988c7f4e9b4c53",
            "_dom_classes": [],
            "description": "",
            "_model_name": "IntProgressModel",
            "bar_style": "success",
            "max": 157,
            "_view_module": "@jupyter-widgets/controls",
            "_model_module_version": "1.5.0",
            "value": 157,
            "_view_count": null,
            "_view_module_version": "1.5.0",
            "orientation": "horizontal",
            "min": 0,
            "description_tooltip": null,
            "_model_module": "@jupyter-widgets/controls",
            "layout": "IPY_MODEL_2ea2535691df419fa800aa905c9fce9d"
          }
        },
        "0f86d891206e4ca6be4e9ef3211a4d98": {
          "model_module": "@jupyter-widgets/controls",
          "model_name": "HTMLModel",
          "state": {
            "_view_name": "HTMLView",
            "style": "IPY_MODEL_45aa30651e204b129e776f55c6d1411b",
            "_dom_classes": [],
            "description": "",
            "_model_name": "HTMLModel",
            "placeholder": "​",
            "_view_module": "@jupyter-widgets/controls",
            "_model_module_version": "1.5.0",
            "value": "100% 157/157 [00:01&lt;00:00, 83.39it/s]",
            "_view_count": null,
            "_view_module_version": "1.5.0",
            "description_tooltip": null,
            "_model_module": "@jupyter-widgets/controls",
            "layout": "IPY_MODEL_b3fda36ad4bc43a9bbd9e14d58fb3715"
          }
        },
        "dc50f03ec43540b2be988c7f4e9b4c53": {
          "model_module": "@jupyter-widgets/controls",
          "model_name": "ProgressStyleModel",
          "state": {
            "_view_name": "StyleView",
            "_model_name": "ProgressStyleModel",
            "description_width": "",
            "_view_module": "@jupyter-widgets/base",
            "_model_module_version": "1.5.0",
            "_view_count": null,
            "_view_module_version": "1.2.0",
            "bar_color": null,
            "_model_module": "@jupyter-widgets/controls"
          }
        },
        "2ea2535691df419fa800aa905c9fce9d": {
          "model_module": "@jupyter-widgets/base",
          "model_name": "LayoutModel",
          "state": {
            "_view_name": "LayoutView",
            "grid_template_rows": null,
            "right": null,
            "justify_content": null,
            "_view_module": "@jupyter-widgets/base",
            "overflow": null,
            "_model_module_version": "1.2.0",
            "_view_count": null,
            "flex_flow": null,
            "width": null,
            "min_width": null,
            "border": null,
            "align_items": null,
            "bottom": null,
            "_model_module": "@jupyter-widgets/base",
            "top": null,
            "grid_column": null,
            "overflow_y": null,
            "overflow_x": null,
            "grid_auto_flow": null,
            "grid_area": null,
            "grid_template_columns": null,
            "flex": null,
            "_model_name": "LayoutModel",
            "justify_items": null,
            "grid_row": null,
            "max_height": null,
            "align_content": null,
            "visibility": null,
            "align_self": null,
            "height": null,
            "min_height": null,
            "padding": null,
            "grid_auto_rows": null,
            "grid_gap": null,
            "max_width": null,
            "order": null,
            "_view_module_version": "1.2.0",
            "grid_template_areas": null,
            "object_position": null,
            "object_fit": null,
            "grid_auto_columns": null,
            "margin": null,
            "display": null,
            "left": null
          }
        },
        "45aa30651e204b129e776f55c6d1411b": {
          "model_module": "@jupyter-widgets/controls",
          "model_name": "DescriptionStyleModel",
          "state": {
            "_view_name": "StyleView",
            "_model_name": "DescriptionStyleModel",
            "description_width": "",
            "_view_module": "@jupyter-widgets/base",
            "_model_module_version": "1.5.0",
            "_view_count": null,
            "_view_module_version": "1.2.0",
            "_model_module": "@jupyter-widgets/controls"
          }
        },
        "b3fda36ad4bc43a9bbd9e14d58fb3715": {
          "model_module": "@jupyter-widgets/base",
          "model_name": "LayoutModel",
          "state": {
            "_view_name": "LayoutView",
            "grid_template_rows": null,
            "right": null,
            "justify_content": null,
            "_view_module": "@jupyter-widgets/base",
            "overflow": null,
            "_model_module_version": "1.2.0",
            "_view_count": null,
            "flex_flow": null,
            "width": null,
            "min_width": null,
            "border": null,
            "align_items": null,
            "bottom": null,
            "_model_module": "@jupyter-widgets/base",
            "top": null,
            "grid_column": null,
            "overflow_y": null,
            "overflow_x": null,
            "grid_auto_flow": null,
            "grid_area": null,
            "grid_template_columns": null,
            "flex": null,
            "_model_name": "LayoutModel",
            "justify_items": null,
            "grid_row": null,
            "max_height": null,
            "align_content": null,
            "visibility": null,
            "align_self": null,
            "height": null,
            "min_height": null,
            "padding": null,
            "grid_auto_rows": null,
            "grid_gap": null,
            "max_width": null,
            "order": null,
            "_view_module_version": "1.2.0",
            "grid_template_areas": null,
            "object_position": null,
            "object_fit": null,
            "grid_auto_columns": null,
            "margin": null,
            "display": null,
            "left": null
          }
        },
        "97797a9d7a984264890c63ef2a258256": {
          "model_module": "@jupyter-widgets/controls",
          "model_name": "HBoxModel",
          "state": {
            "_view_name": "HBoxView",
            "_dom_classes": [],
            "_model_name": "HBoxModel",
            "_view_module": "@jupyter-widgets/controls",
            "_model_module_version": "1.5.0",
            "_view_count": null,
            "_view_module_version": "1.5.0",
            "box_style": "",
            "layout": "IPY_MODEL_d3601a1621d74735acfb9f8ed6144842",
            "_model_module": "@jupyter-widgets/controls",
            "children": [
              "IPY_MODEL_778057cf7b054c6bb1c449801da7c75b",
              "IPY_MODEL_531bbd56d7ba44449d9c4a79b96550ff"
            ]
          }
        },
        "d3601a1621d74735acfb9f8ed6144842": {
          "model_module": "@jupyter-widgets/base",
          "model_name": "LayoutModel",
          "state": {
            "_view_name": "LayoutView",
            "grid_template_rows": null,
            "right": null,
            "justify_content": null,
            "_view_module": "@jupyter-widgets/base",
            "overflow": null,
            "_model_module_version": "1.2.0",
            "_view_count": null,
            "flex_flow": null,
            "width": null,
            "min_width": null,
            "border": null,
            "align_items": null,
            "bottom": null,
            "_model_module": "@jupyter-widgets/base",
            "top": null,
            "grid_column": null,
            "overflow_y": null,
            "overflow_x": null,
            "grid_auto_flow": null,
            "grid_area": null,
            "grid_template_columns": null,
            "flex": null,
            "_model_name": "LayoutModel",
            "justify_items": null,
            "grid_row": null,
            "max_height": null,
            "align_content": null,
            "visibility": null,
            "align_self": null,
            "height": null,
            "min_height": null,
            "padding": null,
            "grid_auto_rows": null,
            "grid_gap": null,
            "max_width": null,
            "order": null,
            "_view_module_version": "1.2.0",
            "grid_template_areas": null,
            "object_position": null,
            "object_fit": null,
            "grid_auto_columns": null,
            "margin": null,
            "display": null,
            "left": null
          }
        },
        "778057cf7b054c6bb1c449801da7c75b": {
          "model_module": "@jupyter-widgets/controls",
          "model_name": "IntProgressModel",
          "state": {
            "_view_name": "ProgressView",
            "style": "IPY_MODEL_f8268ead4c8b4923855918b071a1668e",
            "_dom_classes": [],
            "description": "",
            "_model_name": "IntProgressModel",
            "bar_style": "danger",
            "max": 1,
            "_view_module": "@jupyter-widgets/controls",
            "_model_module_version": "1.5.0",
            "value": 1,
            "_view_count": null,
            "_view_module_version": "1.5.0",
            "orientation": "horizontal",
            "min": 0,
            "description_tooltip": null,
            "_model_module": "@jupyter-widgets/controls",
            "layout": "IPY_MODEL_0184837acd6544228cf7a26202c2de25"
          }
        },
        "531bbd56d7ba44449d9c4a79b96550ff": {
          "model_module": "@jupyter-widgets/controls",
          "model_name": "HTMLModel",
          "state": {
            "_view_name": "HTMLView",
            "style": "IPY_MODEL_820bc0523989406c9d538821de7cb142",
            "_dom_classes": [],
            "description": "",
            "_model_name": "HTMLModel",
            "placeholder": "​",
            "_view_module": "@jupyter-widgets/controls",
            "_model_module_version": "1.5.0",
            "value": "0it [00:00, ?it/s]",
            "_view_count": null,
            "_view_module_version": "1.5.0",
            "description_tooltip": null,
            "_model_module": "@jupyter-widgets/controls",
            "layout": "IPY_MODEL_11c26354f2c742558daeb44663f26617"
          }
        },
        "f8268ead4c8b4923855918b071a1668e": {
          "model_module": "@jupyter-widgets/controls",
          "model_name": "ProgressStyleModel",
          "state": {
            "_view_name": "StyleView",
            "_model_name": "ProgressStyleModel",
            "description_width": "",
            "_view_module": "@jupyter-widgets/base",
            "_model_module_version": "1.5.0",
            "_view_count": null,
            "_view_module_version": "1.2.0",
            "bar_color": null,
            "_model_module": "@jupyter-widgets/controls"
          }
        },
        "0184837acd6544228cf7a26202c2de25": {
          "model_module": "@jupyter-widgets/base",
          "model_name": "LayoutModel",
          "state": {
            "_view_name": "LayoutView",
            "grid_template_rows": null,
            "right": null,
            "justify_content": null,
            "_view_module": "@jupyter-widgets/base",
            "overflow": null,
            "_model_module_version": "1.2.0",
            "_view_count": null,
            "flex_flow": null,
            "width": null,
            "min_width": null,
            "border": null,
            "align_items": null,
            "bottom": null,
            "_model_module": "@jupyter-widgets/base",
            "top": null,
            "grid_column": null,
            "overflow_y": null,
            "overflow_x": null,
            "grid_auto_flow": null,
            "grid_area": null,
            "grid_template_columns": null,
            "flex": null,
            "_model_name": "LayoutModel",
            "justify_items": null,
            "grid_row": null,
            "max_height": null,
            "align_content": null,
            "visibility": null,
            "align_self": null,
            "height": null,
            "min_height": null,
            "padding": null,
            "grid_auto_rows": null,
            "grid_gap": null,
            "max_width": null,
            "order": null,
            "_view_module_version": "1.2.0",
            "grid_template_areas": null,
            "object_position": null,
            "object_fit": null,
            "grid_auto_columns": null,
            "margin": null,
            "display": null,
            "left": null
          }
        },
        "820bc0523989406c9d538821de7cb142": {
          "model_module": "@jupyter-widgets/controls",
          "model_name": "DescriptionStyleModel",
          "state": {
            "_view_name": "StyleView",
            "_model_name": "DescriptionStyleModel",
            "description_width": "",
            "_view_module": "@jupyter-widgets/base",
            "_model_module_version": "1.5.0",
            "_view_count": null,
            "_view_module_version": "1.2.0",
            "_model_module": "@jupyter-widgets/controls"
          }
        },
        "11c26354f2c742558daeb44663f26617": {
          "model_module": "@jupyter-widgets/base",
          "model_name": "LayoutModel",
          "state": {
            "_view_name": "LayoutView",
            "grid_template_rows": null,
            "right": null,
            "justify_content": null,
            "_view_module": "@jupyter-widgets/base",
            "overflow": null,
            "_model_module_version": "1.2.0",
            "_view_count": null,
            "flex_flow": null,
            "width": null,
            "min_width": null,
            "border": null,
            "align_items": null,
            "bottom": null,
            "_model_module": "@jupyter-widgets/base",
            "top": null,
            "grid_column": null,
            "overflow_y": null,
            "overflow_x": null,
            "grid_auto_flow": null,
            "grid_area": null,
            "grid_template_columns": null,
            "flex": null,
            "_model_name": "LayoutModel",
            "justify_items": null,
            "grid_row": null,
            "max_height": null,
            "align_content": null,
            "visibility": null,
            "align_self": null,
            "height": null,
            "min_height": null,
            "padding": null,
            "grid_auto_rows": null,
            "grid_gap": null,
            "max_width": null,
            "order": null,
            "_view_module_version": "1.2.0",
            "grid_template_areas": null,
            "object_position": null,
            "object_fit": null,
            "grid_auto_columns": null,
            "margin": null,
            "display": null,
            "left": null
          }
        }
      }
    }
  },
  "cells": [
    {
      "cell_type": "markdown",
      "metadata": {
        "id": "view-in-github",
        "colab_type": "text"
      },
      "source": [
        "<a href=\"https://colab.research.google.com/github/ParthikB/F.R.I.E.N.D.S/blob/master/FRIENDS_siamese.ipynb\" target=\"_parent\"><img src=\"https://colab.research.google.com/assets/colab-badge.svg\" alt=\"Open In Colab\"/></a>"
      ]
    },
    {
      "cell_type": "code",
      "metadata": {
        "id": "dUk_6_0R4Otd",
        "colab_type": "code",
        "colab": {}
      },
      "source": [
        "'''\n",
        "PROGRESS LADDER:\n",
        "\n",
        "            Similarity Score between some person and F.R.I.E.N.D.S. Characters\n",
        "                                          ^\n",
        "                  Saved Facial Features Value of all the 6 characters\n",
        "                                          ^\n",
        "          A Model that will extract the facial feature information from the image\n",
        "                                        \n",
        "\n",
        "'''"
      ],
      "execution_count": 0,
      "outputs": []
    },
    {
      "cell_type": "code",
      "metadata": {
        "id": "C21mwtDwRtiG",
        "colab_type": "code",
        "colab": {}
      },
      "source": [
        "from google.colab import drive\n",
        "drive.mount('/content/drive')"
      ],
      "execution_count": 0,
      "outputs": []
    },
    {
      "cell_type": "code",
      "metadata": {
        "id": "epdJI6aYShkT",
        "colab_type": "code",
        "colab": {}
      },
      "source": [
        "ROOT = '/content/drive/My Drive/Colab Notebooks/friends'\n",
        "os.chdir(ROOT)"
      ],
      "execution_count": 0,
      "outputs": []
    },
    {
      "cell_type": "markdown",
      "metadata": {
        "id": "xvaU8qqJ6zd2",
        "colab_type": "text"
      },
      "source": [
        "# Importing Libraries"
      ]
    },
    {
      "cell_type": "code",
      "metadata": {
        "id": "cFW5QONoPx7y",
        "colab_type": "code",
        "outputId": "f51e1fb6-2353-45a3-8d1f-f050d8b31144",
        "colab": {
          "base_uri": "https://localhost:8080/",
          "height": 36
        }
      },
      "source": [
        "import warnings\n",
        "warnings.filterwarnings(\"ignore\")\n",
        "\n",
        "import torch\n",
        "import torch.nn as nn\n",
        "import torch.nn.functional as F\n",
        "from torchvision import transforms, datasets\n",
        "import torch.optim as optim\n",
        "\n",
        "from sklearn.model_selection import train_test_split\n",
        "\n",
        "import numpy as np\n",
        "import matplotlib.pyplot as plt\n",
        "from tqdm import tqdm_notebook as tqdm\n",
        "import seaborn as sns\n",
        "import cv2, os\n",
        "import random\n",
        "\n",
        "if torch.cuda.is_available():\n",
        "  device = torch.device('cuda:0')\n",
        "  running = 'GPU'\n",
        "else:\n",
        "  device = torch.device('cpu')\n",
        "  running = 'CPU'\n",
        "print(f'Running on : {running}')"
      ],
      "execution_count": 22,
      "outputs": [
        {
          "output_type": "stream",
          "text": [
            "Running on : GPU\n"
          ],
          "name": "stdout"
        }
      ]
    },
    {
      "cell_type": "markdown",
      "metadata": {
        "id": "SKg1KJP_64Fm",
        "colab_type": "text"
      },
      "source": [
        "# Building the Dataset"
      ]
    },
    {
      "cell_type": "code",
      "metadata": {
        "id": "-s0oF4xPSAvQ",
        "colab_type": "code",
        "outputId": "f2341e20-4bf2-4aba-e45b-5ec0e3487738",
        "colab": {
          "base_uri": "https://localhost:8080/",
          "height": 55
        }
      },
      "source": [
        "PATH = '/dataset/filtered'\n",
        "os.chdir(ROOT+PATH)\n",
        "\n",
        "# label = {'ross':0, 'rachel':1}\n",
        "# dataset = []\n",
        "\n",
        "# for char in os.listdir():\n",
        "#   os.chdir(char)\n",
        "#   for img in tqdm(os.listdir()):\n",
        "#     img = torch.Tensor(plt.imread(img))\n",
        "#     dataset.append([img, label[char]])\n",
        "#     # print(char, img)\n",
        "    \n",
        "#   os.chdir(ROOT+PATH)\n",
        "  \n",
        "\n",
        "\n",
        "BATCH_SIZE = 16\n",
        "CLASSES    = 2\n",
        "\n",
        "TEST_PERCENT = 20\n",
        "\n",
        "upto = len(dataset)//TEST_PERCENT\n",
        "\n",
        "# Shuffling the Dataset\n",
        "random.shuffle(dataset)\n",
        "\n",
        "train_data = dataset[upto:]\n",
        "test_data  = dataset[:upto]\n",
        "\n",
        "# print(len(train_data), len(test_data))\n",
        "\n",
        "trainSet = torch.utils.data.DataLoader(train_data, batch_size=BATCH_SIZE, shuffle=False, drop_last=True)\n",
        "testSet  = torch.utils.data.DataLoader(test_data,  batch_size=BATCH_SIZE, shuffle=False)\n",
        "\n",
        "print('Training Samples :', len(trainSet.dataset))\n",
        "print('Testing Samples  :', len(testSet.dataset))"
      ],
      "execution_count": 39,
      "outputs": [
        {
          "output_type": "stream",
          "text": [
            "Training Samples : 263\n",
            "Testing Samples  : 13\n"
          ],
          "name": "stdout"
        }
      ]
    },
    {
      "cell_type": "markdown",
      "metadata": {
        "id": "2Nq4leGj6Pe4",
        "colab_type": "text"
      },
      "source": [
        "### Visualizing a sample"
      ]
    },
    {
      "cell_type": "code",
      "metadata": {
        "id": "SjW05GsyL9CU",
        "colab_type": "code",
        "outputId": "0900a462-90a3-45ab-e720-41cb806c44bb",
        "colab": {
          "base_uri": "https://localhost:8080/",
          "height": 222
        }
      },
      "source": [
        "i = np.random.randint(BATCH_SIZE) # a random sample from the first batch\n",
        "\n",
        "x, y = trainSet.dataset[i][0], trainSet.dataset[i][1]\n",
        "\n",
        "DIM, DIM = x.shape\n",
        "TOTAL_PIXELS = DIM*DIM\n",
        "\n",
        "t = x.numpy()\n",
        "\n",
        "\n",
        "plt.subplot(1, 2, 1)\n",
        "plt.imshow(t) # Reshaping x from (1, DIM, DIM) --> (DIM, DIM, 1)\n",
        "print(y)"
      ],
      "execution_count": 38,
      "outputs": [
        {
          "output_type": "stream",
          "text": [
            "1\n"
          ],
          "name": "stdout"
        },
        {
          "output_type": "display_data",
          "data": {
            "image/png": "[encoded data removed]",
            "text/plain": [
              "<Figure size 432x288 with 1 Axes>"
            ]
          },
          "metadata": {
            "tags": []
          }
        }
      ]
    },
    {
      "cell_type": "markdown",
      "metadata": {
        "id": "K6hEbN4i8AFy",
        "colab_type": "text"
      },
      "source": [
        "# Defining the Network"
      ]
    },
    {
      "cell_type": "code",
      "metadata": {
        "id": "0_EFtGvrQJNO",
        "colab_type": "code",
        "colab": {}
      },
      "source": [
        "  def __init__(self):\n",
        "    super().__init__()\n",
        "\n",
        "\n",
        "    # Creating the convulutional Layers\n",
        "    self.conv1 = nn.Conv2d(in_channels=CHANNELS, out_channels=64, kernel_size=1, stride=1)\n",
        "    self.conv2 = nn.Conv2d(in_channels=64, out_channels=128, kernel_size=1, stride=1)\n",
        "    self.conv3 = nn.Conv2d(in_channels=128, out_channels=256, kernel_size=1, stride=1)\n",
        "\n",
        "    self.flatten = None\n",
        "    # Creating a Random dummy sample to get the Flattened Dimensions\n",
        "    x = torch.randn(CHANNELS, DIM, DIM).view(-1, CHANNELS, DIM, DIM)\n",
        "    x = self.convs(x)\n",
        "\n",
        "    # Creating the Linear Layers\n",
        "    # print('total', TOTAL_PIXELS)\n",
        "    self.fc1   = nn.Linear(self.flatten, 256)\n",
        "    self.fc2   = nn.Linear(256, 2)\n",
        "\n",
        "  def convs(self, x):\n",
        "    # Creating the MaxPooling Layers\n",
        "    x = F.relu(self.conv1(x))\n",
        "    x = F.max_pool2d(F.relu(self.conv2(x)), kernel_size=(3, 3), stride=2)\n",
        "    x = F.relu(self.conv3(x))\n",
        "    # print(x.shape)\n",
        "\n",
        "    if not self.flatten:\n",
        "      self.flatten = x[0].shape[0] * x[0].shape[1] * x[0].shape[2]\n",
        "      # print('flatten', self.flatten)\n",
        "    return x\n",
        "\n",
        "  def get_sim_score(self, img1, img2):\n",
        "    return F.pairwise_distance(img1.view(-1,  1), img2.view(-1,  1), keepdim=True).float()\n",
        "\n",
        "  \n",
        "  # FORWARD PASS\n",
        "  def forward(self, x):\n",
        "\n",
        "    features = {}\n",
        "    for img, type_ in zip(x, ['IR', 'VIS']):\n",
        "      img = img.to(device)\n",
        "      img = self.convs(img)\n",
        "      img = img.view(self.flatten, -1)\n",
        "      features[type_] = img\n",
        "\n",
        "    ir_slice = features['IR']\n",
        "    vis_slice = features['VIS']\n",
        "    # print(ir_slice.shape)\n",
        "    \n",
        "    # CONCATINATION\n",
        "    # Getting the Euclidian Distance\n",
        "    edist = self.get_sim_score(ir_slice, vis_slice)\n",
        "\n",
        "    edist = edist.view(-1, self.flatten) # self.flatten = 2304\n",
        "    # print('sm', sm.shape)\n",
        "\n",
        "    sm = F.relu(self.fc1(edist))\n",
        "    # print(fc1)\n",
        "    label = self.fc2(sm)\n",
        "    # print(label.shape)\n",
        "\n",
        "    return label, sm"
      ],
      "execution_count": 0,
      "outputs": []
    },
    {
      "cell_type": "code",
      "metadata": {
        "id": "iek2bb-1QZOw",
        "colab_type": "code",
        "colab": {}
      },
      "source": [
        "def train(net, train_set, loss_log=[], EPOCHS=5, LEARNING_RATE=0.001, BATCH_SIZE=32):\n",
        "  print('Initiating Training..')  \n",
        "  loss_func = nn.CrossEntropyLoss()\n",
        "\n",
        "  # Iteration Begins\n",
        "  for epoch in tqdm_notebook(range(EPOCHS)):\n",
        "    # Iterate over every sample in the batch\n",
        "    for data in tqdm_notebook(trainSet, desc=f'Iteration > {epoch}/{EPOCHS} : ', leave=False):\n",
        "        x, y = data\n",
        "        net.zero_grad()\n",
        "        \n",
        "        #Compute the output\n",
        "        output, sm = net(x.view(-1, CHANNELS, DIM, DIM).to(device))\n",
        "        \n",
        "        # Compute Loss\n",
        "        loss = loss_func(output, y.to(device))\n",
        "        \n",
        "        # Backpropagate\n",
        "        loss.backward()\n",
        "        \n",
        "        # Update Parameters\n",
        "        optimizer.step()\n",
        " \n",
        "    loss_log.append(loss)\n",
        "  \n",
        "  return loss_log\n",
        "\n",
        "\n",
        "\n",
        "def test(net, test_set, find_accuracy=True):\n",
        "  print('Initiating Testing..')\n",
        "  correct = 0\n",
        "  total   = 0\n",
        "  sm_log = []\n",
        "\n",
        "  with torch.no_grad():\n",
        "    for data in tqdm_notebook(test_set):\n",
        "      x, y = data\n",
        "\n",
        "      # Prediction the TestSet Data\n",
        "      prediction_in_batch, sm = net(x.view(-1, CHANNELS, DIM, DIM).to(device))\n",
        "\n",
        "      # ARGMAXing the predicted output\n",
        "      for output in zip(prediction_in_batch, y, sm):\n",
        "        pred_class, real_class, sm = output\n",
        "        pred_class = torch.argmax(pred_class)\n",
        "\n",
        "        sm_log.append([sm, real_class])\n",
        "\n",
        "        total += 1\n",
        "        if real_class == pred_class:\n",
        "          correct += 1\n",
        "\n",
        "  accuracy = (correct/total)*100\n",
        "  print()\n",
        "  print(f'Test Accuracy : {round(accuracy, 2)} %')\n",
        "  return accuracy, sm_log"
      ],
      "execution_count": 0,
      "outputs": []
    },
    {
      "cell_type": "markdown",
      "metadata": {
        "id": "Q-PIhg3a8g1_",
        "colab_type": "text"
      },
      "source": [
        "# Training"
      ]
    },
    {
      "cell_type": "code",
      "metadata": {
        "colab_type": "code",
        "outputId": "664d7bb6-e8d0-4f86-86a1-ee90e1ecc524",
        "id": "yQVLwSOn77qr",
        "colab": {
          "base_uri": "https://localhost:8080/",
          "height": 478,
          "referenced_widgets": [
            "975a496e06204f09a46fc9a7ce36ee25",
            "12d0ab47d3c447d887f8524c01c9d58b",
            "632e119f7355401793cfbba51c529867",
            "063c2d6a7ef6455cb69399a64a0ac97c",
            "b2f1361d108e49f59f3373b096ee55d5",
            "00f9d86dc27b4e73b2879d2efd694c07",
            "e79a2482fcf14db0920940a38b2da69c",
            "26d72b318e4a4bdd94a03ec459f8aa2d",
            "8f76a2cf0b9e498ab8090b1e60541780",
            "ba905f7f4ff144cbbc68ba33965ab674",
            "2390bb375bb04b7ea8d6fd2de2456c7c",
            "f7d94a8bcff64ed58aa118c5ea6c9d94",
            "ab81d3e788994d29a7b92a15c2c9f308",
            "e6ab10b5674d45e393e119beb7fc882e",
            "51473b1d1a4248b8a0da4f284eb28961",
            "bb754b833dc6482fa28c6eb3ef06aa4a",
            "996f7bac6b95452a888860036d0d2008",
            "836d2f0d75784ab6b4fb2ed8a08b948f",
            "00db6eb4551842bc845d23d96ea31ad1",
            "d74edbcb6e2c4f9d962f87e1bfcfea2f",
            "576cdc04545948fdbe81bc0d8acae914",
            "d244794b1b894a108c3b31740b7b5e94",
            "78214fae04c6477a8e2251c5750d6ba7",
            "f13ddc4c9eec44e58ac7dbde05443ad5",
            "492a366e6d144f1db02d6489e4b5f023",
            "439a13593447430c884b977dfd2e15b4",
            "4cf67a69105d4364af7affb91d62a0c4",
            "18a7f252217043eaa0305edfb6ed3b54",
            "1035c51a45854a1583854bbb26ed398e",
            "0b3beb435fd145458260e8717f786911",
            "0b1eb93d3bc544e891b348cca57eeb01",
            "8e184214e53d467f867f3870234465e7",
            "230ec9fe5db94c70a5ebdefe479f22e5",
            "7ab2438509394161935bf3a983fd23df",
            "5bfb5e0d574a4e13b20050ae5f7415bb",
            "83f178776b2445a0b1bc3bf8ae35509f",
            "828b86cff2b34aed829454f50c2a538b",
            "a974bc83765246c1a282c289f4fe1dc5",
            "00c11782d5f54725ac48ade0c2872d7a",
            "312afd61499c437ca776d903faaa3b77",
            "af6ed32377684884a32de3b902134647",
            "69b3149c421047118b25881f711e4bcb",
            "1dbecd9f72054508b637c6e3196950e7",
            "57cfd64ae5904e05b6f37606033c7904",
            "9f5d1cf44a254366affb0e33bf327ac9",
            "a1ca4196782146f293e3f97236d502a1",
            "8ee7a01b162b45ad8ec920e9762a6c60",
            "7dfc2c66ab604100a9d09a16aab18ad1",
            "ecec697a090d47d5b9963d24941fbe31",
            "0b8029f7e9054abdbca47eb9f92fdb98",
            "daed3a091440430c89920d871ee93809",
            "0f86d891206e4ca6be4e9ef3211a4d98",
            "dc50f03ec43540b2be988c7f4e9b4c53",
            "2ea2535691df419fa800aa905c9fce9d",
            "45aa30651e204b129e776f55c6d1411b",
            "b3fda36ad4bc43a9bbd9e14d58fb3715"
          ]
        }
      },
      "source": [
        "EPOCHS        = 5\n",
        "LEARNING_RATE = 0.0001\n",
        "BATCH_SIZE    = BATCH_SIZE\n",
        "CONTINUE_TRAINING = 1\n",
        "\n",
        "if not CONTINUE_TRAINING:\n",
        "  net = Net().to(device)\n",
        "  optimizer = optim.Adam(net.parameters(), lr=LEARNING_RATE)\n",
        "\n",
        "  loss_log = []\n",
        "  total_epochs = 0\n",
        "\n",
        "\n",
        "total_epochs += EPOCHS\n",
        "loss_log = train(net, trainSet, loss_log, EPOCHS, LEARNING_RATE, BATCH_SIZE)\n",
        "\n",
        "plt.plot(loss_log)\n",
        "plt.grid(1)\n",
        "plt.xlabel('Epochs')\n",
        "plt.ylabel('Loss')\n",
        "plt.title(f'Final Loss : {loss_log[-1]}')\n",
        "\n",
        "accuracy, sm_log = test(net, testSet)\n",
        "\n",
        "print(f'Total Epochs : {total_epochs}')"
      ],
      "execution_count": 0,
      "outputs": [
        {
          "output_type": "stream",
          "text": [
            "Initiating Training..\n"
          ],
          "name": "stdout"
        },
        {
          "output_type": "display_data",
          "data": {
            "application/vnd.jupyter.widget-view+json": {
              "model_id": "975a496e06204f09a46fc9a7ce36ee25",
              "version_minor": 0,
              "version_major": 2
            },
            "text/plain": [
              "HBox(children=(IntProgress(value=0, max=5), HTML(value='')))"
            ]
          },
          "metadata": {
            "tags": []
          }
        },
        {
          "output_type": "display_data",
          "data": {
            "application/vnd.jupyter.widget-view+json": {
              "model_id": "8f76a2cf0b9e498ab8090b1e60541780",
              "version_minor": 0,
              "version_major": 2
            },
            "text/plain": [
              "HBox(children=(IntProgress(value=0, description='Iteration > 0/5 : ', max=782, style=ProgressStyle(description…"
            ]
          },
          "metadata": {
            "tags": []
          }
        },
        {
          "output_type": "display_data",
          "data": {
            "application/vnd.jupyter.widget-view+json": {
              "model_id": "996f7bac6b95452a888860036d0d2008",
              "version_minor": 0,
              "version_major": 2
            },
            "text/plain": [
              "HBox(children=(IntProgress(value=0, description='Iteration > 1/5 : ', max=782, style=ProgressStyle(description…"
            ]
          },
          "metadata": {
            "tags": []
          }
        },
        {
          "output_type": "display_data",
          "data": {
            "application/vnd.jupyter.widget-view+json": {
              "model_id": "492a366e6d144f1db02d6489e4b5f023",
              "version_minor": 0,
              "version_major": 2
            },
            "text/plain": [
              "HBox(children=(IntProgress(value=0, description='Iteration > 2/5 : ', max=782, style=ProgressStyle(description…"
            ]
          },
          "metadata": {
            "tags": []
          }
        },
        {
          "output_type": "display_data",
          "data": {
            "application/vnd.jupyter.widget-view+json": {
              "model_id": "230ec9fe5db94c70a5ebdefe479f22e5",
              "version_minor": 0,
              "version_major": 2
            },
            "text/plain": [
              "HBox(children=(IntProgress(value=0, description='Iteration > 3/5 : ', max=782, style=ProgressStyle(description…"
            ]
          },
          "metadata": {
            "tags": []
          }
        },
        {
          "output_type": "display_data",
          "data": {
            "application/vnd.jupyter.widget-view+json": {
              "model_id": "af6ed32377684884a32de3b902134647",
              "version_minor": 0,
              "version_major": 2
            },
            "text/plain": [
              "HBox(children=(IntProgress(value=0, description='Iteration > 4/5 : ', max=782, style=ProgressStyle(description…"
            ]
          },
          "metadata": {
            "tags": []
          }
        },
        {
          "output_type": "stream",
          "text": [
            "\n",
            "Initiating Testing..\n"
          ],
          "name": "stdout"
        },
        {
          "output_type": "display_data",
          "data": {
            "application/vnd.jupyter.widget-view+json": {
              "model_id": "ecec697a090d47d5b9963d24941fbe31",
              "version_minor": 0,
              "version_major": 2
            },
            "text/plain": [
              "HBox(children=(IntProgress(value=0, max=157), HTML(value='')))"
            ]
          },
          "metadata": {
            "tags": []
          }
        },
        {
          "output_type": "stream",
          "text": [
            "\n",
            "\n",
            "Test Accuracy : 36.71 %\n",
            "Total Epochs : 20\n"
          ],
          "name": "stdout"
        },
        {
          "output_type": "display_data",
          "data": {
            "image/png": "[encoded data removed]",
            "text/plain": [
              "<Figure size 432x288 with 1 Axes>"
            ]
          },
          "metadata": {
            "tags": []
          }
        }
      ]
    },
    {
      "cell_type": "markdown",
      "metadata": {
        "id": "HCIujPN28j_h",
        "colab_type": "text"
      },
      "source": [
        "# Heatmap"
      ]
    },
    {
      "cell_type": "code",
      "metadata": {
        "id": "UEgwAMq08Yb9",
        "colab_type": "code",
        "colab": {}
      },
      "source": [
        "def mean(list):\n",
        "  return sum(list)/len(list)\n",
        "\n",
        "# CREATING A DICT THAT CONTAINS THE RESPECTIVE SM\n",
        "classes = {}\n",
        "\n",
        "for data in (sm_log):\n",
        "  sm, label = data\n",
        "  label = label.numpy()\n",
        "  sm = sm.cpu().numpy()\n",
        "  \n",
        "  try:\n",
        "    classes[str(label)].append(sm)\n",
        "  except:\n",
        "    classes[str(label)] = [sm]\n",
        "\n",
        "\n",
        "# FINDING THE MINIMUM SAMPLES to CLIP\n",
        "clip = 1000\n",
        "for i in classes.keys():\n",
        "  clip = min(clip, len(classes[i]))\n",
        "\n",
        "\n",
        "# CLIPPING ALL THE CLASSES SAMPLES TO THE MINIMUM\n",
        "for i in classes.keys():\n",
        "  classes[i] = classes[i][:clip]\n",
        "\n",
        "# CREATING A MASTER IN ORDER\n",
        "master = []\n",
        "for c in sorted(classes.keys()):\n",
        "  master.append(np.array(classes[c]))\n",
        "\n",
        "# CREATING A MAP LIST TO PLOT\n",
        "edist_log=[]\n",
        "for class1 in master:\n",
        "  class1 = torch.Tensor(class1.mean(axis=1))\n",
        "  for class2 in master:\n",
        "    class2 = torch.Tensor(class2.mean(axis=1))\n",
        "    edist = F.pairwise_distance(class1.view(-1,  1), class2.view(-1,  1), keepdim = True).float().numpy()\n",
        "    edist_log.append(edist.mean())\n",
        "\n",
        "map = np.array(edist_log).reshape(10, 10)\n",
        "sns.heatmap(map)"
      ],
      "execution_count": 0,
      "outputs": []
    },
    {
      "cell_type": "markdown",
      "metadata": {
        "id": "075ilSEy8ZSt",
        "colab_type": "text"
      },
      "source": [
        "# Extra"
      ]
    },
    {
      "cell_type": "code",
      "metadata": {
        "id": "P5sK0eco8ZWC",
        "colab_type": "code",
        "colab": {}
      },
      "source": [
        "from PIL import Image"
      ],
      "execution_count": 0,
      "outputs": []
    },
    {
      "cell_type": "code",
      "metadata": {
        "id": "YhigIUdk8ZZS",
        "colab_type": "code",
        "colab": {}
      },
      "source": [
        "# !wget https://pmctvline2.files.wordpress.com/2019/06/friends-rachel.jpg?w=620\n",
        "\n",
        "rach1 = Image.open('/content/friends-rachel.jpg')"
      ],
      "execution_count": 0,
      "outputs": []
    },
    {
      "cell_type": "code",
      "metadata": {
        "id": "B-sDS3bP8rWN",
        "colab_type": "code",
        "colab": {}
      },
      "source": [
        "# !wget https://vignette.wikia.nocookie.net/friends/images/5/56/Friends-Rachel_Green-Jennifer_Aniston-younger_4.jpg/revision/latest/top-crop/width/300/height/300?cb=20190828233528\n",
        "\n",
        "rach2 = Image.open('/content/rach2.jpg')"
      ],
      "execution_count": 0,
      "outputs": []
    },
    {
      "cell_type": "code",
      "metadata": {
        "id": "LBzw6kL1CiMQ",
        "colab_type": "code",
        "colab": {}
      },
      "source": [
        "rach3 = Image.open('/content/rach3.jpg')\n",
        "ross1 = Image.open('/content/ross.jpg')\n"
      ],
      "execution_count": 0,
      "outputs": []
    },
    {
      "cell_type": "code",
      "metadata": {
        "id": "R3-hriwdWNUS",
        "colab_type": "code",
        "colab": {}
      },
      "source": [
        "chimp1 = Image.open('/content/chimp1.jpg')\n",
        "chimp2 = Image.open('/content/chimp2.jpg')"
      ],
      "execution_count": 0,
      "outputs": []
    },
    {
      "cell_type": "code",
      "metadata": {
        "id": "NF9HPzbU_HFs",
        "colab_type": "code",
        "outputId": "838898d7-f06e-4f53-de7f-98f9f1168d6f",
        "colab": {
          "base_uri": "https://localhost:8080/",
          "height": 119
        }
      },
      "source": [
        "def get_sm(net, image):\n",
        "  print('Initiating Testing..')\n",
        "\n",
        "  with torch.no_grad():\n",
        "    # for data in tqdm_notebook(test_set):\n",
        "      # x, y = data\n",
        "      image_arr = np.array(image)\n",
        "      x = cv2.resize(image_arr, (DIM, DIM))\n",
        "      x = torch.Tensor(x)\n",
        "\n",
        "      # Prediction the TestSet Data\n",
        "      prediction_in_batch, sm = net(x.view(-1, CHANNELS, DIM, DIM).to(device))\n",
        "\n",
        "  return sm\n",
        "\n",
        "\n",
        "sm1 = get_sm(net, rach1)\n",
        "sm2 = get_sm(net, rach2)\n",
        "sm3 = get_sm(net, rach3)\n",
        "sm4 = get_sm(net, ross1)\n",
        "chimp1 = get_sm(net, chimp1)\n",
        "chimp2 = get_sm(net, chimp2)"
      ],
      "execution_count": 0,
      "outputs": [
        {
          "output_type": "stream",
          "text": [
            "Initiating Testing..\n",
            "Initiating Testing..\n",
            "Initiating Testing..\n",
            "Initiating Testing..\n",
            "Initiating Testing..\n",
            "Initiating Testing..\n"
          ],
          "name": "stdout"
        }
      ]
    },
    {
      "cell_type": "code",
      "metadata": {
        "id": "kB1VANDgB611",
        "colab_type": "code",
        "outputId": "e80ca3e2-7c49-4064-836d-2ea6d5c870bb",
        "colab": {
          "base_uri": "https://localhost:8080/",
          "height": 272
        }
      },
      "source": [
        "def get_sim_score(sm1, sm2):\n",
        "  score = F.pairwise_distance(sm1.view(-1,  1), sm2.view(-1,  1), keepdim = True).float().cpu().numpy()\n",
        "  return score.mean()\n",
        "\n",
        "scores = [sm1, sm2, sm3, sm4, chimp1, chimp2]\n",
        "\n",
        "for i in range(len(scores)):\n",
        "  for j in range(i+1, len(scores)):\n",
        "    print(f'sm{i+1}-sm{j+1} :', get_sim_score(scores[i], scores[j]))"
      ],
      "execution_count": 0,
      "outputs": [
        {
          "output_type": "stream",
          "text": [
            "sm1-sm2 : 12.763027\n",
            "sm1-sm3 : 4.895035\n",
            "sm1-sm4 : 7.4979563\n",
            "sm1-sm5 : 8.080718\n",
            "sm1-sm6 : 7.7464666\n",
            "sm2-sm3 : 10.662391\n",
            "sm2-sm4 : 8.848873\n",
            "sm2-sm5 : 14.154539\n",
            "sm2-sm6 : 10.706717\n",
            "sm3-sm4 : 6.3889136\n",
            "sm3-sm5 : 8.656348\n",
            "sm3-sm6 : 7.5454574\n",
            "sm4-sm5 : 8.469106\n",
            "sm4-sm6 : 5.724091\n",
            "sm5-sm6 : 7.65348\n"
          ],
          "name": "stdout"
        }
      ]
    },
    {
      "cell_type": "code",
      "metadata": {
        "id": "FXxV4OVQFPn4",
        "colab_type": "code",
        "outputId": "d221f067-f32a-49d5-ebc6-e225382efe74",
        "colab": {
          "base_uri": "https://localhost:8080/",
          "height": 34
        }
      },
      "source": [
        "sm1.shape"
      ],
      "execution_count": 0,
      "outputs": [
        {
          "output_type": "execute_result",
          "data": {
            "text/plain": [
              "torch.Size([1, 512])"
            ]
          },
          "metadata": {
            "tags": []
          },
          "execution_count": 39
        }
      ]
    },
    {
      "cell_type": "code",
      "metadata": {
        "id": "J9k1l36BXm9S",
        "colab_type": "code",
        "colab": {}
      },
      "source": [
        "def res(sm):\n",
        "  return sm.reshape(32, 16).cpu()\n",
        "\n",
        "t1 = res(sm1)\n",
        "t2 = res(sm2)\n"
      ],
      "execution_count": 0,
      "outputs": []
    },
    {
      "cell_type": "code",
      "metadata": {
        "id": "pnxKTR7xYDeE",
        "colab_type": "code",
        "outputId": "a09511c5-c8c9-4064-e7c8-7cededfe19f3",
        "colab": {
          "base_uri": "https://localhost:8080/",
          "height": 283
        }
      },
      "source": [
        "plt.imshow(t1)"
      ],
      "execution_count": 0,
      "outputs": [
        {
          "output_type": "execute_result",
          "data": {
            "text/plain": [
              "<matplotlib.image.AxesImage at 0x7f7e30e555f8>"
            ]
          },
          "metadata": {
            "tags": []
          },
          "execution_count": 53
        },
        {
          "output_type": "display_data",
          "data": {
            "image/png": "[encoded data removed]",
            "text/plain": [
              "<Figure size 432x288 with 1 Axes>"
            ]
          },
          "metadata": {
            "tags": []
          }
        }
      ]
    },
    {
      "cell_type": "code",
      "metadata": {
        "id": "X5me4rjoYMHq",
        "colab_type": "code",
        "outputId": "cd87708b-463c-4785-8b56-c450d1721c80",
        "colab": {
          "base_uri": "https://localhost:8080/",
          "height": 283
        }
      },
      "source": [
        "plt.imshow(t2)"
      ],
      "execution_count": 0,
      "outputs": [
        {
          "output_type": "execute_result",
          "data": {
            "text/plain": [
              "<matplotlib.image.AxesImage at 0x7f7e30e26630>"
            ]
          },
          "metadata": {
            "tags": []
          },
          "execution_count": 54
        },
        {
          "output_type": "display_data",
          "data": {
            "image/png": "[encoded data removed]",
            "text/plain": [
              "<Figure size 432x288 with 1 Axes>"
            ]
          },
          "metadata": {
            "tags": []
          }
        }
      ]
    },
    {
      "cell_type": "code",
      "metadata": {
        "id": "AA1HDOaRYSvj",
        "colab_type": "code",
        "outputId": "54e930a9-49b6-433f-d6b3-a8f8acaad359",
        "colab": {
          "base_uri": "https://localhost:8080/",
          "height": 34
        }
      },
      "source": [
        "torch.mean(t1-t2)"
      ],
      "execution_count": 0,
      "outputs": [
        {
          "output_type": "execute_result",
          "data": {
            "text/plain": [
              "tensor(-7.1417)"
            ]
          },
          "metadata": {
            "tags": []
          },
          "execution_count": 58
        }
      ]
    },
    {
      "cell_type": "markdown",
      "metadata": {
        "id": "x-hFw99K2H_N",
        "colab_type": "text"
      },
      "source": [
        "# VGG"
      ]
    },
    {
      "cell_type": "code",
      "metadata": {
        "id": "fEOuNez92MmM",
        "colab_type": "code",
        "colab": {}
      },
      "source": [
        "import torchvision.models as models\n",
        "import urllib, numpy as np, cv2\n",
        "from google.colab.patches import cv2_imshow"
      ],
      "execution_count": 0,
      "outputs": []
    },
    {
      "cell_type": "markdown",
      "metadata": {
        "id": "acNtEdRZ_ywq",
        "colab_type": "text"
      },
      "source": [
        "### Url To Image"
      ]
    },
    {
      "cell_type": "code",
      "metadata": {
        "id": "zCY0vfeX-sYx",
        "colab_type": "code",
        "colab": {}
      },
      "source": [
        "def urlToImage(url):\n",
        "  resp = urllib.request.urlopen(url)\n",
        "  img = np.asarray(bytearray(resp.read()), dtype='uint8')\n",
        "  img = cv2.imdecode(img, cv2.IMREAD_COLOR)\n",
        "  img2show = img.copy()\n",
        "\n",
        "  img = np.rollaxis(img, 2, 0)\n",
        "  img = np.expand_dims(img, axis=0)\n",
        "  return img2show, img  \n",
        "  \n",
        "ross_list = ['https://a1cf74336522e87f135f-2f21ace9a6cf0052456644b80fa06d4f.ssl.cf2.rackcdn.com/images/characters_opt/p-friends-david-schwimmer.jpg',\n",
        "              'https://66.media.tumblr.com/135ab23e998d92a23753ce36cbe25081/tumblr_inline_p7p7jif5hx1syfsdr_500.jpg',\n",
        "              # 'https://i.pinimg.com/originals/36/03/48/36034842250720f106913c53d9f2da9d.jpg',\n",
        "              'https://upload.wikimedia.org/wikipedia/en/thumb/d/da/Matt_LeBlanc_as_Joey_Tribbiani.jpg/220px-Matt_LeBlanc_as_Joey_Tribbiani.jpg',\n",
        "             'http://images.fanpop.com/images/image_uploads/Rachel-rachel-green-130496_500_402.jpg']\n",
        "\n",
        "ross = {}\n",
        "for idx, url in enumerate(ross_list, 1):\n",
        "  ross[f'ross_{idx}'] = urlToImage(url)\n",
        "\n",
        "# cv2_imshow(img2show)\n",
        "# print(img.shape)"
      ],
      "execution_count": 0,
      "outputs": []
    },
    {
      "cell_type": "markdown",
      "metadata": {
        "id": "6mil74f7-scm",
        "colab_type": "text"
      },
      "source": [
        "### Model"
      ]
    },
    {
      "cell_type": "code",
      "metadata": {
        "id": "BuooZ1492l5i",
        "colab_type": "code",
        "outputId": "6232b8ef-57b7-49bf-88c8-83d34d62b6f4",
        "colab": {
          "base_uri": "https://localhost:8080/",
          "height": 188
        }
      },
      "source": [
        "model = models.resnet50(pretrained=True)\n",
        "list(model.children())[4][2]"
      ],
      "execution_count": 0,
      "outputs": [
        {
          "output_type": "execute_result",
          "data": {
            "text/plain": [
              "Bottleneck(\n",
              "  (conv1): Conv2d(256, 64, kernel_size=(1, 1), stride=(1, 1), bias=False)\n",
              "  (bn1): BatchNorm2d(64, eps=1e-05, momentum=0.1, affine=True, track_running_stats=True)\n",
              "  (conv2): Conv2d(64, 64, kernel_size=(3, 3), stride=(1, 1), padding=(1, 1), bias=False)\n",
              "  (bn2): BatchNorm2d(64, eps=1e-05, momentum=0.1, affine=True, track_running_stats=True)\n",
              "  (conv3): Conv2d(64, 256, kernel_size=(1, 1), stride=(1, 1), bias=False)\n",
              "  (bn3): BatchNorm2d(256, eps=1e-05, momentum=0.1, affine=True, track_running_stats=True)\n",
              "  (relu): ReLU(inplace=True)\n",
              ")"
            ]
          },
          "metadata": {
            "tags": []
          },
          "execution_count": 11
        }
      ]
    },
    {
      "cell_type": "code",
      "metadata": {
        "id": "6W5A26Vz2mTR",
        "colab_type": "code",
        "colab": {}
      },
      "source": [
        "def get_features(input_img):\n",
        "  '''\n",
        "  >> A function that return the features of the 'input_img'.\n",
        "  type_of_feature --> content/style\n",
        "  '''\n",
        "  layers = [4]\n",
        "  \n",
        "  outputs= []\n",
        "  def hook(module, input, output):\n",
        "      outputs.append(output)\n",
        "\n",
        "  # Creating a dictionary containing the children of the layers\n",
        "  features = {}\n",
        "  for idx, layer_num in enumerate(layers):\n",
        "    features['feature_' + str(idx)] = list(model.children())[2][layer_num]\n",
        "\n",
        "  # Hooking the network to get the output of every layer in the features dict.\n",
        "  for i in range(len(layers)):\n",
        "    features['feature_' + str(i)].register_forward_hook(hook)\n",
        "  \n",
        "  # Passing the image through the network\n",
        "  final_output_which_is_not_needed = model(input_img)\n",
        "  \n",
        "  # Returning the features\n",
        "  return outputs\n",
        "\n",
        "\n",
        "def sigmoid(x):\n",
        "  return 1/(1+ (np.e)**(-x))\n",
        "\n",
        "def get_sim_score(sm1, sm2):\n",
        "  score = F.pairwise_distance(sm1.view(-1,  1), sm2.view(-1,  1), keepdim = True).float().detach().cpu().numpy()\n",
        "  score = score.mean()\n",
        "  # return 1 - sigmoid(score)\n",
        "  return score\n"
      ],
      "execution_count": 0,
      "outputs": []
    },
    {
      "cell_type": "code",
      "metadata": {
        "id": "VWsd19lY2mZQ",
        "colab_type": "code",
        "outputId": "35010a0e-cb64-4ce1-9125-a81481147b3a",
        "colab": {
          "base_uri": "https://localhost:8080/",
          "height": 438,
          "referenced_widgets": [
            "97797a9d7a984264890c63ef2a258256",
            "d3601a1621d74735acfb9f8ed6144842",
            "778057cf7b054c6bb1c449801da7c75b",
            "531bbd56d7ba44449d9c4a79b96550ff",
            "f8268ead4c8b4923855918b071a1668e",
            "0184837acd6544228cf7a26202c2de25",
            "820bc0523989406c9d538821de7cb142",
            "11c26354f2c742558daeb44663f26617"
          ]
        }
      },
      "source": [
        "ross_features = {}\n",
        "for idx, k in tqdm(enumerate(ross.keys(), 1)):\n",
        "  print(idx, k)\n",
        "  ross_features[f'ross_f{idx}'] = get_features(torch.Tensor(ross[k][1]))\n",
        "  # break\n"
      ],
      "execution_count": 0,
      "outputs": [
        {
          "output_type": "display_data",
          "data": {
            "application/vnd.jupyter.widget-view+json": {
              "model_id": "97797a9d7a984264890c63ef2a258256",
              "version_minor": 0,
              "version_major": 2
            },
            "text/plain": [
              "HBox(children=(IntProgress(value=1, bar_style='info', max=1), HTML(value='')))"
            ]
          },
          "metadata": {
            "tags": []
          }
        },
        {
          "output_type": "stream",
          "text": [
            "1 ross_1\n",
            "\n"
          ],
          "name": "stdout"
        },
        {
          "output_type": "error",
          "ename": "TypeError",
          "evalue": "ignored",
          "traceback": [
            "\u001b[0;31m---------------------------------------------------------------------------\u001b[0m",
            "\u001b[0;31mTypeError\u001b[0m                                 Traceback (most recent call last)",
            "\u001b[0;32m<ipython-input-14-41792d63d658>\u001b[0m in \u001b[0;36m<module>\u001b[0;34m()\u001b[0m\n\u001b[1;32m      2\u001b[0m \u001b[0;32mfor\u001b[0m \u001b[0midx\u001b[0m\u001b[0;34m,\u001b[0m \u001b[0mk\u001b[0m \u001b[0;32min\u001b[0m \u001b[0mtqdm\u001b[0m\u001b[0;34m(\u001b[0m\u001b[0menumerate\u001b[0m\u001b[0;34m(\u001b[0m\u001b[0mross\u001b[0m\u001b[0;34m.\u001b[0m\u001b[0mkeys\u001b[0m\u001b[0;34m(\u001b[0m\u001b[0;34m)\u001b[0m\u001b[0;34m,\u001b[0m \u001b[0;36m1\u001b[0m\u001b[0;34m)\u001b[0m\u001b[0;34m)\u001b[0m\u001b[0;34m:\u001b[0m\u001b[0;34m\u001b[0m\u001b[0;34m\u001b[0m\u001b[0m\n\u001b[1;32m      3\u001b[0m   \u001b[0mprint\u001b[0m\u001b[0;34m(\u001b[0m\u001b[0midx\u001b[0m\u001b[0;34m,\u001b[0m \u001b[0mk\u001b[0m\u001b[0;34m)\u001b[0m\u001b[0;34m\u001b[0m\u001b[0;34m\u001b[0m\u001b[0m\n\u001b[0;32m----> 4\u001b[0;31m   \u001b[0mross_features\u001b[0m\u001b[0;34m[\u001b[0m\u001b[0;34mf'ross_f{idx}'\u001b[0m\u001b[0;34m]\u001b[0m \u001b[0;34m=\u001b[0m \u001b[0mget_features\u001b[0m\u001b[0;34m(\u001b[0m\u001b[0mtorch\u001b[0m\u001b[0;34m.\u001b[0m\u001b[0mTensor\u001b[0m\u001b[0;34m(\u001b[0m\u001b[0mross\u001b[0m\u001b[0;34m[\u001b[0m\u001b[0mk\u001b[0m\u001b[0;34m]\u001b[0m\u001b[0;34m[\u001b[0m\u001b[0;36m1\u001b[0m\u001b[0;34m]\u001b[0m\u001b[0;34m)\u001b[0m\u001b[0;34m)\u001b[0m\u001b[0;34m\u001b[0m\u001b[0;34m\u001b[0m\u001b[0m\n\u001b[0m\u001b[1;32m      5\u001b[0m   \u001b[0;31m# break\u001b[0m\u001b[0;34m\u001b[0m\u001b[0;34m\u001b[0m\u001b[0;34m\u001b[0m\u001b[0m\n",
            "\u001b[0;32m<ipython-input-12-844870a436c9>\u001b[0m in \u001b[0;36mget_features\u001b[0;34m(input_img)\u001b[0m\n\u001b[1;32m     13\u001b[0m   \u001b[0mfeatures\u001b[0m \u001b[0;34m=\u001b[0m \u001b[0;34m{\u001b[0m\u001b[0;34m}\u001b[0m\u001b[0;34m\u001b[0m\u001b[0;34m\u001b[0m\u001b[0m\n\u001b[1;32m     14\u001b[0m   \u001b[0;32mfor\u001b[0m \u001b[0midx\u001b[0m\u001b[0;34m,\u001b[0m \u001b[0mlayer_num\u001b[0m \u001b[0;32min\u001b[0m \u001b[0menumerate\u001b[0m\u001b[0;34m(\u001b[0m\u001b[0mlayers\u001b[0m\u001b[0;34m)\u001b[0m\u001b[0;34m:\u001b[0m\u001b[0;34m\u001b[0m\u001b[0;34m\u001b[0m\u001b[0m\n\u001b[0;32m---> 15\u001b[0;31m     \u001b[0mfeatures\u001b[0m\u001b[0;34m[\u001b[0m\u001b[0;34m'feature_'\u001b[0m \u001b[0;34m+\u001b[0m \u001b[0mstr\u001b[0m\u001b[0;34m(\u001b[0m\u001b[0midx\u001b[0m\u001b[0;34m)\u001b[0m\u001b[0;34m]\u001b[0m \u001b[0;34m=\u001b[0m \u001b[0mlist\u001b[0m\u001b[0;34m(\u001b[0m\u001b[0mmodel\u001b[0m\u001b[0;34m.\u001b[0m\u001b[0mchildren\u001b[0m\u001b[0;34m(\u001b[0m\u001b[0;34m)\u001b[0m\u001b[0;34m)\u001b[0m\u001b[0;34m[\u001b[0m\u001b[0;36m2\u001b[0m\u001b[0;34m]\u001b[0m\u001b[0;34m[\u001b[0m\u001b[0mlayer_num\u001b[0m\u001b[0;34m]\u001b[0m\u001b[0;34m\u001b[0m\u001b[0;34m\u001b[0m\u001b[0m\n\u001b[0m\u001b[1;32m     16\u001b[0m \u001b[0;34m\u001b[0m\u001b[0m\n\u001b[1;32m     17\u001b[0m   \u001b[0;31m# Hooking the network to get the output of every layer in the features dict.\u001b[0m\u001b[0;34m\u001b[0m\u001b[0;34m\u001b[0m\u001b[0;34m\u001b[0m\u001b[0m\n",
            "\u001b[0;31mTypeError\u001b[0m: 'ReLU' object does not support indexing"
          ]
        }
      ]
    },
    {
      "cell_type": "code",
      "metadata": {
        "id": "2mGBRKgIEGcJ",
        "colab_type": "code",
        "outputId": "77d551a8-2495-4b01-b8ba-0f21bc7b6e07",
        "colab": {
          "base_uri": "https://localhost:8080/",
          "height": 568
        }
      },
      "source": [
        "ross_features"
      ],
      "execution_count": 0,
      "outputs": [
        {
          "output_type": "execute_result",
          "data": {
            "text/plain": [
              "{'ross_f1': [tensor([[0., 0., 0.,  ..., 0., 0., 0.]], grad_fn=<ReluBackward1>),\n",
              "  tensor([[11.5817,  0.0000,  0.0000,  ...,  0.0000,  0.0000,  0.0000]],\n",
              "         grad_fn=<ReluBackward1>),\n",
              "  tensor([[0.7462, 0.0000, 3.0694,  ..., 0.0000, 1.8212, 0.3815]],\n",
              "         grad_fn=<ReluBackward1>),\n",
              "  tensor([[ 0.0000,  0.0000,  0.0000,  ...,  0.0000,  0.0000, 13.0593]],\n",
              "         grad_fn=<ReluBackward1>),\n",
              "  tensor([[9.9060, 0.0000, 0.3788,  ..., 0.0000, 0.0000, 1.8402]],\n",
              "         grad_fn=<ReluBackward1>)],\n",
              " 'ross_f2': [tensor([[11.5817,  0.0000,  0.0000,  ...,  0.0000,  0.0000,  0.0000]],\n",
              "         grad_fn=<ReluBackward1>),\n",
              "  tensor([[0.7462, 0.0000, 3.0694,  ..., 0.0000, 1.8212, 0.3815]],\n",
              "         grad_fn=<ReluBackward1>),\n",
              "  tensor([[ 0.0000,  0.0000,  0.0000,  ...,  0.0000,  0.0000, 13.0593]],\n",
              "         grad_fn=<ReluBackward1>),\n",
              "  tensor([[9.9060, 0.0000, 0.3788,  ..., 0.0000, 0.0000, 1.8402]],\n",
              "         grad_fn=<ReluBackward1>)],\n",
              " 'ross_f3': [tensor([[0.7462, 0.0000, 3.0694,  ..., 0.0000, 1.8212, 0.3815]],\n",
              "         grad_fn=<ReluBackward1>),\n",
              "  tensor([[ 0.0000,  0.0000,  0.0000,  ...,  0.0000,  0.0000, 13.0593]],\n",
              "         grad_fn=<ReluBackward1>),\n",
              "  tensor([[9.9060, 0.0000, 0.3788,  ..., 0.0000, 0.0000, 1.8402]],\n",
              "         grad_fn=<ReluBackward1>)],\n",
              " 'ross_f4': [tensor([[ 0.0000,  0.0000,  0.0000,  ...,  0.0000,  0.0000, 13.0593]],\n",
              "         grad_fn=<ReluBackward1>),\n",
              "  tensor([[9.9060, 0.0000, 0.3788,  ..., 0.0000, 0.0000, 1.8402]],\n",
              "         grad_fn=<ReluBackward1>)],\n",
              " 'ross_f5': [tensor([[9.9060, 0.0000, 0.3788,  ..., 0.0000, 0.0000, 1.8402]],\n",
              "         grad_fn=<ReluBackward1>)]}"
            ]
          },
          "metadata": {
            "tags": []
          },
          "execution_count": 7
        }
      ]
    },
    {
      "cell_type": "code",
      "metadata": {
        "id": "S2LkrUeHGtqv",
        "colab_type": "code",
        "outputId": "756dd3a7-4a13-47fd-ba3d-08a289d422e2",
        "colab": {
          "base_uri": "https://localhost:8080/",
          "height": 587
        }
      },
      "source": [
        "for f in ross_features['ross_f1']:\n",
        "  print()\n",
        "  for f2 in ross_features['ross_f1']:\n",
        "    print(get_sim_score(f, f2))\n"
      ],
      "execution_count": 0,
      "outputs": [
        {
          "output_type": "stream",
          "text": [
            "\n",
            "1.0000001e-06\n",
            "2.2117863\n",
            "1.8945799\n",
            "4.1841583\n",
            "1.7595961\n",
            "\n",
            "2.2117863\n",
            "1.0000001e-06\n",
            "1.8982443\n",
            "3.6013234\n",
            "1.9177842\n",
            "\n",
            "1.8945799\n",
            "1.898244\n",
            "1.0000001e-06\n",
            "3.8089237\n",
            "1.0710487\n",
            "\n",
            "4.184159\n",
            "3.6013234\n",
            "3.8089237\n",
            "1.0000001e-06\n",
            "3.7426047\n",
            "\n",
            "1.7595961\n",
            "1.917784\n",
            "1.0710485\n",
            "3.7426045\n",
            "1.0000001e-06\n"
          ],
          "name": "stdout"
        }
      ]
    },
    {
      "cell_type": "code",
      "metadata": {
        "id": "kfI8o9YMGyBy",
        "colab_type": "code",
        "colab": {}
      },
      "source": [
        ""
      ],
      "execution_count": 0,
      "outputs": []
    }
  ]
}